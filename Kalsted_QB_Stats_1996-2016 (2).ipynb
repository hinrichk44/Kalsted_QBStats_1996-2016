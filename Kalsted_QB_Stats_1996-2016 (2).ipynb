{
 "cells": [
  {
   "cell_type": "markdown",
   "metadata": {},
   "source": [
    "# Project Overview"
   ]
  },
  {
   "cell_type": "markdown",
   "metadata": {},
   "source": [
    "The dataset I am using comes from Kaggle. It has various QB stats from 1996-2016. I want to see if any of the variables describing QB performance have predictive power for total team points.  "
   ]
  },
  {
   "cell_type": "markdown",
   "metadata": {},
   "source": [
    "https://www.kaggle.com/speckledpingu/nfl-qb-stats"
   ]
  },
  {
   "cell_type": "markdown",
   "metadata": {},
   "source": [
    "# Importing Basic Libraries"
   ]
  },
  {
   "cell_type": "code",
   "execution_count": 1,
   "metadata": {},
   "outputs": [],
   "source": [
    "#These are the libraries I typically use in my analysis so I find it easier to import them all at once\n",
    "#If I need more libraries I will import them as needed\n",
    "\n",
    "import matplotlib.pyplot as plt\n",
    "import numpy as np\n",
    "import pandas as pd\n",
    "import seaborn as sns\n",
    "plt.style.use('fivethirtyeight')\n",
    "%matplotlib inline"
   ]
  },
  {
   "cell_type": "markdown",
   "metadata": {},
   "source": [
    "# Initial Review of the Data"
   ]
  },
  {
   "cell_type": "code",
   "execution_count": 2,
   "metadata": {},
   "outputs": [],
   "source": [
    "#Reading in of the dataset\n",
    "\n",
    "qb_analysis = pd.read_csv(\"QBStats_all.csv\")"
   ]
  },
  {
   "cell_type": "code",
   "execution_count": 3,
   "metadata": {},
   "outputs": [
    {
     "data": {
      "text/plain": [
       "(13188, 15)"
      ]
     },
     "execution_count": 3,
     "metadata": {},
     "output_type": "execute_result"
    }
   ],
   "source": [
    "#The beginning structure of this dataset contains 13,188 rows and 15 columns worth of data\n",
    "\n",
    "qb_analysis.shape"
   ]
  },
  {
   "cell_type": "code",
   "execution_count": 4,
   "metadata": {},
   "outputs": [
    {
     "data": {
      "text/plain": [
       "other name      object\n",
       "qb              object\n",
       "att              int64\n",
       "cmp              int64\n",
       "yds            float64\n",
       "ypa            float64\n",
       "td               int64\n",
       "int             object\n",
       "lg              object\n",
       "sack           float64\n",
       "loss           float64\n",
       "rate           float64\n",
       "game_points      int64\n",
       "home_away       object\n",
       "year             int64\n",
       "dtype: object"
      ]
     },
     "execution_count": 4,
     "metadata": {},
     "output_type": "execute_result"
    }
   ],
   "source": [
    "#Here I am checking what the data types are for my potential explanatory variables\n",
    "#Looks like most of them are numeric (integers or floats)\n",
    "#However, some like interceptions look like they need to be converted to an integer\n",
    "#Year should also be converted to a string\n",
    "\n",
    "qb_analysis.dtypes"
   ]
  },
  {
   "cell_type": "code",
   "execution_count": 5,
   "metadata": {},
   "outputs": [
    {
     "data": {
      "text/html": [
       "<div>\n",
       "<style scoped>\n",
       "    .dataframe tbody tr th:only-of-type {\n",
       "        vertical-align: middle;\n",
       "    }\n",
       "\n",
       "    .dataframe tbody tr th {\n",
       "        vertical-align: top;\n",
       "    }\n",
       "\n",
       "    .dataframe thead th {\n",
       "        text-align: right;\n",
       "    }\n",
       "</style>\n",
       "<table border=\"1\" class=\"dataframe\">\n",
       "  <thead>\n",
       "    <tr style=\"text-align: right;\">\n",
       "      <th></th>\n",
       "      <th>other name</th>\n",
       "      <th>qb</th>\n",
       "      <th>att</th>\n",
       "      <th>cmp</th>\n",
       "      <th>yds</th>\n",
       "      <th>ypa</th>\n",
       "      <th>td</th>\n",
       "      <th>int</th>\n",
       "      <th>lg</th>\n",
       "      <th>sack</th>\n",
       "      <th>loss</th>\n",
       "      <th>rate</th>\n",
       "      <th>game_points</th>\n",
       "      <th>home_away</th>\n",
       "      <th>year</th>\n",
       "    </tr>\n",
       "  </thead>\n",
       "  <tbody>\n",
       "    <tr>\n",
       "      <th>0</th>\n",
       "      <td>Boomer EsiasonB</td>\n",
       "      <td>Boomer Esiason</td>\n",
       "      <td>38</td>\n",
       "      <td>25</td>\n",
       "      <td>237.0</td>\n",
       "      <td>6.2</td>\n",
       "      <td>0</td>\n",
       "      <td>0</td>\n",
       "      <td>20</td>\n",
       "      <td>2.0</td>\n",
       "      <td>11.0</td>\n",
       "      <td>82.9</td>\n",
       "      <td>13</td>\n",
       "      <td>away</td>\n",
       "      <td>1996</td>\n",
       "    </tr>\n",
       "    <tr>\n",
       "      <th>1</th>\n",
       "      <td>Jim HarbaughJ</td>\n",
       "      <td>Jim Harbaugh</td>\n",
       "      <td>25</td>\n",
       "      <td>16</td>\n",
       "      <td>196.0</td>\n",
       "      <td>7.8</td>\n",
       "      <td>2</td>\n",
       "      <td>1</td>\n",
       "      <td>35t</td>\n",
       "      <td>0.0</td>\n",
       "      <td>0.0</td>\n",
       "      <td>98.1</td>\n",
       "      <td>20</td>\n",
       "      <td>home</td>\n",
       "      <td>1996</td>\n",
       "    </tr>\n",
       "    <tr>\n",
       "      <th>2</th>\n",
       "      <td>Paul JustinP</td>\n",
       "      <td>Paul Justin</td>\n",
       "      <td>8</td>\n",
       "      <td>5</td>\n",
       "      <td>53.0</td>\n",
       "      <td>6.6</td>\n",
       "      <td>0</td>\n",
       "      <td>0</td>\n",
       "      <td>30</td>\n",
       "      <td>1.0</td>\n",
       "      <td>11.0</td>\n",
       "      <td>81.8</td>\n",
       "      <td>20</td>\n",
       "      <td>home</td>\n",
       "      <td>1996</td>\n",
       "    </tr>\n",
       "    <tr>\n",
       "      <th>3</th>\n",
       "      <td>Jeff GeorgeJ</td>\n",
       "      <td>Jeff George</td>\n",
       "      <td>35</td>\n",
       "      <td>16</td>\n",
       "      <td>215.0</td>\n",
       "      <td>6.1</td>\n",
       "      <td>0</td>\n",
       "      <td>0</td>\n",
       "      <td>55</td>\n",
       "      <td>7.0</td>\n",
       "      <td>53.0</td>\n",
       "      <td>65.8</td>\n",
       "      <td>6</td>\n",
       "      <td>away</td>\n",
       "      <td>1996</td>\n",
       "    </tr>\n",
       "    <tr>\n",
       "      <th>4</th>\n",
       "      <td>Kerry CollinsK</td>\n",
       "      <td>Kerry Collins</td>\n",
       "      <td>31</td>\n",
       "      <td>17</td>\n",
       "      <td>198.0</td>\n",
       "      <td>6.4</td>\n",
       "      <td>2</td>\n",
       "      <td>0</td>\n",
       "      <td>30</td>\n",
       "      <td>4.0</td>\n",
       "      <td>12.0</td>\n",
       "      <td>95.9</td>\n",
       "      <td>29</td>\n",
       "      <td>home</td>\n",
       "      <td>1996</td>\n",
       "    </tr>\n",
       "  </tbody>\n",
       "</table>\n",
       "</div>"
      ],
      "text/plain": [
       "        other name              qb  att  cmp    yds  ypa  td int   lg  sack  \\\n",
       "0  Boomer EsiasonB  Boomer Esiason   38   25  237.0  6.2   0   0   20   2.0   \n",
       "1    Jim HarbaughJ    Jim Harbaugh   25   16  196.0  7.8   2   1  35t   0.0   \n",
       "2     Paul JustinP     Paul Justin    8    5   53.0  6.6   0   0   30   1.0   \n",
       "3     Jeff GeorgeJ     Jeff George   35   16  215.0  6.1   0   0   55   7.0   \n",
       "4   Kerry CollinsK   Kerry Collins   31   17  198.0  6.4   2   0   30   4.0   \n",
       "\n",
       "   loss  rate  game_points home_away  year  \n",
       "0  11.0  82.9           13      away  1996  \n",
       "1   0.0  98.1           20      home  1996  \n",
       "2  11.0  81.8           20      home  1996  \n",
       "3  53.0  65.8            6      away  1996  \n",
       "4  12.0  95.9           29      home  1996  "
      ]
     },
     "execution_count": 5,
     "metadata": {},
     "output_type": "execute_result"
    }
   ],
   "source": [
    "#A brief look at the beginning of the dataset\n",
    "\n",
    "qb_analysis.head()"
   ]
  },
  {
   "cell_type": "code",
   "execution_count": 6,
   "metadata": {},
   "outputs": [
    {
     "data": {
      "text/html": [
       "<div>\n",
       "<style scoped>\n",
       "    .dataframe tbody tr th:only-of-type {\n",
       "        vertical-align: middle;\n",
       "    }\n",
       "\n",
       "    .dataframe tbody tr th {\n",
       "        vertical-align: top;\n",
       "    }\n",
       "\n",
       "    .dataframe thead th {\n",
       "        text-align: right;\n",
       "    }\n",
       "</style>\n",
       "<table border=\"1\" class=\"dataframe\">\n",
       "  <thead>\n",
       "    <tr style=\"text-align: right;\">\n",
       "      <th></th>\n",
       "      <th>other name</th>\n",
       "      <th>qb</th>\n",
       "      <th>att</th>\n",
       "      <th>cmp</th>\n",
       "      <th>yds</th>\n",
       "      <th>ypa</th>\n",
       "      <th>td</th>\n",
       "      <th>int</th>\n",
       "      <th>lg</th>\n",
       "      <th>sack</th>\n",
       "      <th>loss</th>\n",
       "      <th>rate</th>\n",
       "      <th>game_points</th>\n",
       "      <th>home_away</th>\n",
       "      <th>year</th>\n",
       "    </tr>\n",
       "  </thead>\n",
       "  <tbody>\n",
       "    <tr>\n",
       "      <th>13183</th>\n",
       "      <td>Alex SmithA</td>\n",
       "      <td>Alex Smith</td>\n",
       "      <td>28</td>\n",
       "      <td>21</td>\n",
       "      <td>264.0</td>\n",
       "      <td>9.4</td>\n",
       "      <td>2</td>\n",
       "      <td>1</td>\n",
       "      <td>42</td>\n",
       "      <td>1.0</td>\n",
       "      <td>2.0</td>\n",
       "      <td>112.8</td>\n",
       "      <td>37</td>\n",
       "      <td>away</td>\n",
       "      <td>2016</td>\n",
       "    </tr>\n",
       "    <tr>\n",
       "      <th>13184</th>\n",
       "      <td>Philip RiversP</td>\n",
       "      <td>Philip Rivers</td>\n",
       "      <td>38</td>\n",
       "      <td>22</td>\n",
       "      <td>269.0</td>\n",
       "      <td>7.1</td>\n",
       "      <td>2</td>\n",
       "      <td>2</td>\n",
       "      <td>23</td>\n",
       "      <td>0.0</td>\n",
       "      <td>0.0</td>\n",
       "      <td>75.4</td>\n",
       "      <td>27</td>\n",
       "      <td>home</td>\n",
       "      <td>2016</td>\n",
       "    </tr>\n",
       "    <tr>\n",
       "      <th>13185</th>\n",
       "      <td>Russell WilsonR</td>\n",
       "      <td>Russell Wilson</td>\n",
       "      <td>32</td>\n",
       "      <td>19</td>\n",
       "      <td>258.0</td>\n",
       "      <td>8.1</td>\n",
       "      <td>1</td>\n",
       "      <td>0</td>\n",
       "      <td>42</td>\n",
       "      <td>1.0</td>\n",
       "      <td>6.0</td>\n",
       "      <td>95.6</td>\n",
       "      <td>25</td>\n",
       "      <td>away</td>\n",
       "      <td>2016</td>\n",
       "    </tr>\n",
       "    <tr>\n",
       "      <th>13186</th>\n",
       "      <td>Trevone BoykinT</td>\n",
       "      <td>Trevone Boykin</td>\n",
       "      <td>6</td>\n",
       "      <td>4</td>\n",
       "      <td>42.0</td>\n",
       "      <td>7.0</td>\n",
       "      <td>0</td>\n",
       "      <td>0</td>\n",
       "      <td>19</td>\n",
       "      <td>1.0</td>\n",
       "      <td>5.0</td>\n",
       "      <td>86.8</td>\n",
       "      <td>25</td>\n",
       "      <td>away</td>\n",
       "      <td>2016</td>\n",
       "    </tr>\n",
       "    <tr>\n",
       "      <th>13187</th>\n",
       "      <td>Colin KaepernickC</td>\n",
       "      <td>Colin Kaepernick</td>\n",
       "      <td>22</td>\n",
       "      <td>17</td>\n",
       "      <td>215.0</td>\n",
       "      <td>9.8</td>\n",
       "      <td>1</td>\n",
       "      <td>0</td>\n",
       "      <td>29</td>\n",
       "      <td>5.0</td>\n",
       "      <td>24.0</td>\n",
       "      <td>122.3</td>\n",
       "      <td>23</td>\n",
       "      <td>home</td>\n",
       "      <td>2016</td>\n",
       "    </tr>\n",
       "  </tbody>\n",
       "</table>\n",
       "</div>"
      ],
      "text/plain": [
       "              other name                qb  att  cmp    yds  ypa  td int  lg  \\\n",
       "13183        Alex SmithA        Alex Smith   28   21  264.0  9.4   2   1  42   \n",
       "13184     Philip RiversP     Philip Rivers   38   22  269.0  7.1   2   2  23   \n",
       "13185    Russell WilsonR    Russell Wilson   32   19  258.0  8.1   1   0  42   \n",
       "13186    Trevone BoykinT    Trevone Boykin    6    4   42.0  7.0   0   0  19   \n",
       "13187  Colin KaepernickC  Colin Kaepernick   22   17  215.0  9.8   1   0  29   \n",
       "\n",
       "       sack  loss   rate  game_points home_away  year  \n",
       "13183   1.0   2.0  112.8           37      away  2016  \n",
       "13184   0.0   0.0   75.4           27      home  2016  \n",
       "13185   1.0   6.0   95.6           25      away  2016  \n",
       "13186   1.0   5.0   86.8           25      away  2016  \n",
       "13187   5.0  24.0  122.3           23      home  2016  "
      ]
     },
     "execution_count": 6,
     "metadata": {},
     "output_type": "execute_result"
    }
   ],
   "source": [
    "#A brief look at the end of the dataset\n",
    "\n",
    "qb_analysis.tail()"
   ]
  },
  {
   "cell_type": "code",
   "execution_count": 7,
   "metadata": {},
   "outputs": [],
   "source": [
    "#Here I am dropping the column 'other name' since 'qb' has the QB name imported correctly\n",
    "\n",
    "qb_analysis = qb_analysis.drop(['other name'], axis = 'columns')"
   ]
  },
  {
   "cell_type": "markdown",
   "metadata": {},
   "source": [
    "# Glossary of Terms"
   ]
  },
  {
   "cell_type": "markdown",
   "metadata": {},
   "source": [
    "1. QB: Quarterback name \n",
    "    \n",
    "2. Att: Throwing attempts during the game\n",
    "    \n",
    "3. Cmp: Completions during the game\n",
    "    \n",
    "4. Yds: Yards thrown during the game\n",
    "    \n",
    "5. Ypa: Yards per attempt in the game\n",
    "    \n",
    "6. TD: Touchdowns thrown during the game\n",
    "    \n",
    "7. Int: Interceptions thrown during the game\n",
    "\n",
    "8. Lg: Longest throw of the game\n",
    "    \n",
    "9. Sack: Sacks taken during the game\n",
    "    \n",
    "10. Loss: Loss of yards from the sack\n",
    "    \n",
    "11. Rate: QB rating during the game. Passer rating is calculated using a player's passing attempts, completions, yards, touchdowns, and interceptions. Passer rating in the NFL is on a scale from 0 to 158.3\n",
    "    \n",
    "12. Game_Points: Total points scored in the game\n",
    "    \n",
    "13. Home_Away: Home or away game\n",
    "    \n",
    "14. Year: Year the game occurred in"
   ]
  },
  {
   "cell_type": "code",
   "execution_count": 8,
   "metadata": {},
   "outputs": [
    {
     "data": {
      "text/html": [
       "<div>\n",
       "<style scoped>\n",
       "    .dataframe tbody tr th:only-of-type {\n",
       "        vertical-align: middle;\n",
       "    }\n",
       "\n",
       "    .dataframe tbody tr th {\n",
       "        vertical-align: top;\n",
       "    }\n",
       "\n",
       "    .dataframe thead th {\n",
       "        text-align: right;\n",
       "    }\n",
       "</style>\n",
       "<table border=\"1\" class=\"dataframe\">\n",
       "  <thead>\n",
       "    <tr style=\"text-align: right;\">\n",
       "      <th></th>\n",
       "      <th>att</th>\n",
       "      <th>cmp</th>\n",
       "      <th>yds</th>\n",
       "      <th>ypa</th>\n",
       "      <th>td</th>\n",
       "      <th>sack</th>\n",
       "      <th>loss</th>\n",
       "      <th>rate</th>\n",
       "      <th>game_points</th>\n",
       "      <th>year</th>\n",
       "    </tr>\n",
       "  </thead>\n",
       "  <tbody>\n",
       "    <tr>\n",
       "      <th>count</th>\n",
       "      <td>13188.000000</td>\n",
       "      <td>13188.000000</td>\n",
       "      <td>13188.000000</td>\n",
       "      <td>13188.000000</td>\n",
       "      <td>13188.000000</td>\n",
       "      <td>13171.000000</td>\n",
       "      <td>13171.000000</td>\n",
       "      <td>13171.000000</td>\n",
       "      <td>13188.000000</td>\n",
       "      <td>13188.000000</td>\n",
       "    </tr>\n",
       "    <tr>\n",
       "      <th>mean</th>\n",
       "      <td>26.870488</td>\n",
       "      <td>16.121777</td>\n",
       "      <td>186.135118</td>\n",
       "      <td>6.882909</td>\n",
       "      <td>1.118138</td>\n",
       "      <td>1.863108</td>\n",
       "      <td>11.971225</td>\n",
       "      <td>80.242571</td>\n",
       "      <td>21.379436</td>\n",
       "      <td>2005.898923</td>\n",
       "    </tr>\n",
       "    <tr>\n",
       "      <th>std</th>\n",
       "      <td>13.583991</td>\n",
       "      <td>8.774988</td>\n",
       "      <td>105.629874</td>\n",
       "      <td>4.226307</td>\n",
       "      <td>1.119667</td>\n",
       "      <td>1.701091</td>\n",
       "      <td>11.970053</td>\n",
       "      <td>32.068021</td>\n",
       "      <td>10.663992</td>\n",
       "      <td>6.012892</td>\n",
       "    </tr>\n",
       "    <tr>\n",
       "      <th>min</th>\n",
       "      <td>0.000000</td>\n",
       "      <td>-6.000000</td>\n",
       "      <td>-11.000000</td>\n",
       "      <td>-11.000000</td>\n",
       "      <td>0.000000</td>\n",
       "      <td>0.000000</td>\n",
       "      <td>0.000000</td>\n",
       "      <td>0.000000</td>\n",
       "      <td>0.000000</td>\n",
       "      <td>1996.000000</td>\n",
       "    </tr>\n",
       "    <tr>\n",
       "      <th>25%</th>\n",
       "      <td>20.000000</td>\n",
       "      <td>11.000000</td>\n",
       "      <td>115.000000</td>\n",
       "      <td>5.200000</td>\n",
       "      <td>0.000000</td>\n",
       "      <td>0.000000</td>\n",
       "      <td>0.000000</td>\n",
       "      <td>58.600000</td>\n",
       "      <td>13.000000</td>\n",
       "      <td>2001.000000</td>\n",
       "    </tr>\n",
       "    <tr>\n",
       "      <th>50%</th>\n",
       "      <td>29.000000</td>\n",
       "      <td>17.000000</td>\n",
       "      <td>197.000000</td>\n",
       "      <td>6.700000</td>\n",
       "      <td>1.000000</td>\n",
       "      <td>2.000000</td>\n",
       "      <td>9.000000</td>\n",
       "      <td>80.900000</td>\n",
       "      <td>21.000000</td>\n",
       "      <td>2006.000000</td>\n",
       "    </tr>\n",
       "    <tr>\n",
       "      <th>75%</th>\n",
       "      <td>36.000000</td>\n",
       "      <td>22.000000</td>\n",
       "      <td>260.000000</td>\n",
       "      <td>8.100000</td>\n",
       "      <td>2.000000</td>\n",
       "      <td>3.000000</td>\n",
       "      <td>18.000000</td>\n",
       "      <td>102.000000</td>\n",
       "      <td>28.000000</td>\n",
       "      <td>2011.000000</td>\n",
       "    </tr>\n",
       "    <tr>\n",
       "      <th>max</th>\n",
       "      <td>69.000000</td>\n",
       "      <td>58.000000</td>\n",
       "      <td>527.000000</td>\n",
       "      <td>81.000000</td>\n",
       "      <td>7.000000</td>\n",
       "      <td>12.000000</td>\n",
       "      <td>91.000000</td>\n",
       "      <td>158.300000</td>\n",
       "      <td>62.000000</td>\n",
       "      <td>2016.000000</td>\n",
       "    </tr>\n",
       "  </tbody>\n",
       "</table>\n",
       "</div>"
      ],
      "text/plain": [
       "                att           cmp           yds           ypa            td  \\\n",
       "count  13188.000000  13188.000000  13188.000000  13188.000000  13188.000000   \n",
       "mean      26.870488     16.121777    186.135118      6.882909      1.118138   \n",
       "std       13.583991      8.774988    105.629874      4.226307      1.119667   \n",
       "min        0.000000     -6.000000    -11.000000    -11.000000      0.000000   \n",
       "25%       20.000000     11.000000    115.000000      5.200000      0.000000   \n",
       "50%       29.000000     17.000000    197.000000      6.700000      1.000000   \n",
       "75%       36.000000     22.000000    260.000000      8.100000      2.000000   \n",
       "max       69.000000     58.000000    527.000000     81.000000      7.000000   \n",
       "\n",
       "               sack          loss          rate   game_points          year  \n",
       "count  13171.000000  13171.000000  13171.000000  13188.000000  13188.000000  \n",
       "mean       1.863108     11.971225     80.242571     21.379436   2005.898923  \n",
       "std        1.701091     11.970053     32.068021     10.663992      6.012892  \n",
       "min        0.000000      0.000000      0.000000      0.000000   1996.000000  \n",
       "25%        0.000000      0.000000     58.600000     13.000000   2001.000000  \n",
       "50%        2.000000      9.000000     80.900000     21.000000   2006.000000  \n",
       "75%        3.000000     18.000000    102.000000     28.000000   2011.000000  \n",
       "max       12.000000     91.000000    158.300000     62.000000   2016.000000  "
      ]
     },
     "execution_count": 8,
     "metadata": {},
     "output_type": "execute_result"
    }
   ],
   "source": [
    "#Here are some standard statistics from the dataset\n",
    "\n",
    "#Looks like avg QB performance would be 16-27 for 186 yards and one touchdown with a QB rating of 80\n",
    "\n",
    "qb_analysis.describe()"
   ]
  },
  {
   "cell_type": "code",
   "execution_count": 9,
   "metadata": {},
   "outputs": [
    {
     "data": {
      "text/html": [
       "<div>\n",
       "<style scoped>\n",
       "    .dataframe tbody tr th:only-of-type {\n",
       "        vertical-align: middle;\n",
       "    }\n",
       "\n",
       "    .dataframe tbody tr th {\n",
       "        vertical-align: top;\n",
       "    }\n",
       "\n",
       "    .dataframe thead th {\n",
       "        text-align: right;\n",
       "    }\n",
       "</style>\n",
       "<table border=\"1\" class=\"dataframe\">\n",
       "  <thead>\n",
       "    <tr style=\"text-align: right;\">\n",
       "      <th></th>\n",
       "      <th>qb</th>\n",
       "      <th>int</th>\n",
       "      <th>lg</th>\n",
       "      <th>home_away</th>\n",
       "    </tr>\n",
       "  </thead>\n",
       "  <tbody>\n",
       "    <tr>\n",
       "      <th>count</th>\n",
       "      <td>13091</td>\n",
       "      <td>13188</td>\n",
       "      <td>13171</td>\n",
       "      <td>13188</td>\n",
       "    </tr>\n",
       "    <tr>\n",
       "      <th>unique</th>\n",
       "      <td>672</td>\n",
       "      <td>9</td>\n",
       "      <td>195</td>\n",
       "      <td>2</td>\n",
       "    </tr>\n",
       "    <tr>\n",
       "      <th>top</th>\n",
       "      <td>Peyton Manning</td>\n",
       "      <td>0</td>\n",
       "      <td>0</td>\n",
       "      <td>home</td>\n",
       "    </tr>\n",
       "    <tr>\n",
       "      <th>freq</th>\n",
       "      <td>265</td>\n",
       "      <td>6384</td>\n",
       "      <td>738</td>\n",
       "      <td>6629</td>\n",
       "    </tr>\n",
       "  </tbody>\n",
       "</table>\n",
       "</div>"
      ],
      "text/plain": [
       "                    qb    int     lg home_away\n",
       "count            13091  13188  13171     13188\n",
       "unique             672      9    195         2\n",
       "top     Peyton Manning      0      0      home\n",
       "freq               265   6384    738      6629"
      ]
     },
     "execution_count": 9,
     "metadata": {},
     "output_type": "execute_result"
    }
   ],
   "source": [
    "#Here are some standard statistics from the dataset\n",
    "#There are 672 unique values for QB in this dataset\n",
    "\n",
    "qb_analysis.describe(include = 'object')"
   ]
  },
  {
   "cell_type": "markdown",
   "metadata": {},
   "source": [
    "# Data Cleaning Round One"
   ]
  },
  {
   "cell_type": "markdown",
   "metadata": {},
   "source": [
    "#### Checking for Null Values"
   ]
  },
  {
   "cell_type": "code",
   "execution_count": 10,
   "metadata": {},
   "outputs": [
    {
     "data": {
      "text/plain": [
       "qb             97\n",
       "att             0\n",
       "cmp             0\n",
       "yds             0\n",
       "ypa             0\n",
       "td              0\n",
       "int             0\n",
       "lg             17\n",
       "sack           17\n",
       "loss           17\n",
       "rate           17\n",
       "game_points     0\n",
       "home_away       0\n",
       "year            0\n",
       "dtype: int64"
      ]
     },
     "execution_count": 10,
     "metadata": {},
     "output_type": "execute_result"
    }
   ],
   "source": [
    "#There aren't many null values in this dataset\n",
    "\n",
    "qb_analysis.isna().sum() "
   ]
  },
  {
   "cell_type": "code",
   "execution_count": 11,
   "metadata": {},
   "outputs": [],
   "source": [
    "#Because there are so few null values I'm just going to drop them instead of filling in values\n",
    "\n",
    "qb_analysis = qb_analysis.dropna()"
   ]
  },
  {
   "cell_type": "code",
   "execution_count": 12,
   "metadata": {},
   "outputs": [
    {
     "data": {
      "text/plain": [
       "qb             0\n",
       "att            0\n",
       "cmp            0\n",
       "yds            0\n",
       "ypa            0\n",
       "td             0\n",
       "int            0\n",
       "lg             0\n",
       "sack           0\n",
       "loss           0\n",
       "rate           0\n",
       "game_points    0\n",
       "home_away      0\n",
       "year           0\n",
       "dtype: int64"
      ]
     },
     "execution_count": 12,
     "metadata": {},
     "output_type": "execute_result"
    }
   ],
   "source": [
    "#Double checking and we indeed no longer have any null values in the dataset\n",
    "\n",
    "qb_analysis.isna().sum()"
   ]
  },
  {
   "cell_type": "markdown",
   "metadata": {},
   "source": [
    "#### Converting Variables to Their Proper Format"
   ]
  },
  {
   "cell_type": "code",
   "execution_count": 13,
   "metadata": {},
   "outputs": [
    {
     "data": {
      "text/plain": [
       "0      729\n",
       "24     346\n",
       "27     322\n",
       "25     313\n",
       "26     304\n",
       "22     295\n",
       "23     292\n",
       "30     287\n",
       "28     284\n",
       "29     281\n",
       "21     268\n",
       "20     268\n",
       "31     245\n",
       "35     232\n",
       "33     227\n",
       "36     225\n",
       "19     217\n",
       "32     215\n",
       "18     212\n",
       "34     207\n",
       "37     197\n",
       "41     195\n",
       "38     189\n",
       "17     182\n",
       "40     176\n",
       "42     173\n",
       "39     169\n",
       "46     155\n",
       "47     142\n",
       "16     141\n",
       "      ... \n",
       "95t      4\n",
       "77       4\n",
       "4t       4\n",
       "13t      4\n",
       "-3       3\n",
       "12t      3\n",
       "-8       3\n",
       "8t       3\n",
       "81       3\n",
       "98t      3\n",
       "84       3\n",
       "9t       2\n",
       "82       2\n",
       "93t      2\n",
       "94t      2\n",
       "6t       2\n",
       "-4       2\n",
       "83       2\n",
       "80       2\n",
       "96t      1\n",
       "95       1\n",
       "88       1\n",
       "86       1\n",
       "92       1\n",
       "11t      1\n",
       "-6       1\n",
       "-11      1\n",
       "-7       1\n",
       "87       1\n",
       "92t      1\n",
       "Name: lg, Length: 195, dtype: int64"
      ]
     },
     "execution_count": 13,
     "metadata": {},
     "output_type": "execute_result"
    }
   ],
   "source": [
    "#When I first started doing this I didn't realize 'lg' had odd values with a \"t\" at the end\n",
    "#Either those are typos or the \"t\" stands for \"touchdown\"\n",
    "#Regardless, the \"t\" needs to be removed for me to convert \"lg\" into a numeric column\n",
    "\n",
    "qb_analysis['lg'].value_counts()"
   ]
  },
  {
   "cell_type": "code",
   "execution_count": 14,
   "metadata": {},
   "outputs": [],
   "source": [
    "#Here I am officially removing the \"t\" from every value in the 'lg' column\n",
    "\n",
    "qb_analysis['lg'] = qb_analysis['lg'].str.replace('t','')"
   ]
  },
  {
   "cell_type": "code",
   "execution_count": 15,
   "metadata": {},
   "outputs": [
    {
     "data": {
      "text/plain": [
       "0      729\n",
       "24     384\n",
       "27     367\n",
       "30     362\n",
       "25     355\n",
       "26     348\n",
       "28     332\n",
       "23     330\n",
       "29     329\n",
       "22     329\n",
       "31     315\n",
       "35     307\n",
       "20     298\n",
       "21     295\n",
       "36     286\n",
       "33     278\n",
       "34     273\n",
       "37     262\n",
       "32     261\n",
       "40     242\n",
       "41     236\n",
       "39     235\n",
       "19     235\n",
       "18     233\n",
       "42     232\n",
       "38     229\n",
       "46     201\n",
       "43     197\n",
       "44     196\n",
       "17     193\n",
       "      ... \n",
       "78      28\n",
       "79      25\n",
       "2       22\n",
       "81      20\n",
       "1       19\n",
       "84      16\n",
       "82      16\n",
       "87      14\n",
       "86      12\n",
       "83      12\n",
       "85       8\n",
       "88       7\n",
       "90       7\n",
       "-2       6\n",
       "91       6\n",
       "99       5\n",
       "-1       5\n",
       "89       5\n",
       "95       5\n",
       "-8       3\n",
       "-3       3\n",
       "98       3\n",
       "-4       2\n",
       "93       2\n",
       "92       2\n",
       "94       2\n",
       "96       1\n",
       "-11      1\n",
       "-6       1\n",
       "-7       1\n",
       "Name: lg, Length: 107, dtype: int64"
      ]
     },
     "execution_count": 15,
     "metadata": {},
     "output_type": "execute_result"
    }
   ],
   "source": [
    "#Double checking that it worked and it seems like it did\n",
    "\n",
    "qb_analysis['lg'].value_counts()"
   ]
  },
  {
   "cell_type": "code",
   "execution_count": 16,
   "metadata": {},
   "outputs": [],
   "source": [
    "#Here I am offically converting 'int', 'year', and 'lg' into their proper forms\n",
    "\n",
    "qb_analysis = qb_analysis.astype({'int':int, 'year':str, 'lg':int})"
   ]
  },
  {
   "cell_type": "code",
   "execution_count": 17,
   "metadata": {},
   "outputs": [
    {
     "data": {
      "text/plain": [
       "qb              object\n",
       "att              int64\n",
       "cmp              int64\n",
       "yds            float64\n",
       "ypa            float64\n",
       "td               int64\n",
       "int              int32\n",
       "lg               int32\n",
       "sack           float64\n",
       "loss           float64\n",
       "rate           float64\n",
       "game_points      int64\n",
       "home_away       object\n",
       "year            object\n",
       "dtype: object"
      ]
     },
     "execution_count": 17,
     "metadata": {},
     "output_type": "execute_result"
    }
   ],
   "source": [
    "#Here are the updated data types of each of the columns in my dataset\n",
    "\n",
    "qb_analysis.dtypes"
   ]
  },
  {
   "cell_type": "markdown",
   "metadata": {},
   "source": [
    "# First Pass Model"
   ]
  },
  {
   "cell_type": "markdown",
   "metadata": {},
   "source": [
    "I think it can be a good thing to do a rough draft of your model. That way you can see how much work you need to do to clean it up and make other adjustments"
   ]
  },
  {
   "cell_type": "code",
   "execution_count": 18,
   "metadata": {},
   "outputs": [],
   "source": [
    "#For the first pass model I am just going to use integers and floats\n",
    "#I will convert categorical variables into dummy variables later on\n",
    "\n",
    "qb_analysis_numeric = qb_analysis.drop(['qb', 'home_away', 'year'], axis = 'columns')"
   ]
  },
  {
   "cell_type": "code",
   "execution_count": 19,
   "metadata": {},
   "outputs": [],
   "source": [
    "#Separating the variables between X and y\n",
    "\n",
    "X = qb_analysis_numeric.drop('game_points', axis='columns')\n",
    "y = qb_analysis_numeric.loc[:, 'game_points']"
   ]
  },
  {
   "cell_type": "code",
   "execution_count": 20,
   "metadata": {},
   "outputs": [],
   "source": [
    "#Setting up a training set and a test set\n",
    "#test_size = .2 means 20% of the data is set aside for the test set. 80% of the data is used for the training set\n",
    "#You could also use train_size if you wish\n",
    "#I am using the 80/20 split based on conventional use\n",
    "\n",
    "from sklearn.model_selection import train_test_split\n",
    "\n",
    "X_train, X_test, y_train, y_test = train_test_split(X, y, test_size = .2, random_state=30)"
   ]
  },
  {
   "cell_type": "code",
   "execution_count": 21,
   "metadata": {},
   "outputs": [
    {
     "data": {
      "text/plain": [
       "LinearRegression(copy_X=True, fit_intercept=True, n_jobs=None,\n",
       "         normalize=False)"
      ]
     },
     "execution_count": 21,
     "metadata": {},
     "output_type": "execute_result"
    }
   ],
   "source": [
    "#Setting up a linear regression model using the training set\n",
    "\n",
    "from sklearn.linear_model import LinearRegression\n",
    "\n",
    "lr = LinearRegression()\n",
    "\n",
    "lr.fit(X_train, y_train)"
   ]
  },
  {
   "cell_type": "code",
   "execution_count": 22,
   "metadata": {},
   "outputs": [
    {
     "name": "stdout",
     "output_type": "stream",
     "text": [
      "0.4307409623868883\n",
      "0.4229963796048871\n"
     ]
    }
   ],
   "source": [
    "#Scoring the model on the training set and test set.\n",
    "#These are the R-squared values for the training set and test set. \n",
    "\n",
    "print(lr.score(X_train, y_train))\n",
    "print(lr.score(X_test, y_test))"
   ]
  },
  {
   "cell_type": "markdown",
   "metadata": {},
   "source": [
    "#### First Impressions"
   ]
  },
  {
   "cell_type": "markdown",
   "metadata": {},
   "source": [
    "The first pass model seems pretty impressive. The training and test sets captured 43% and 42% of the variance respectively. The variance between sets is negligible so we are not overfitting the data. "
   ]
  },
  {
   "cell_type": "markdown",
   "metadata": {},
   "source": [
    "# High Scoring Quarterbacks"
   ]
  },
  {
   "cell_type": "markdown",
   "metadata": {},
   "source": [
    "Before I move on with the model, I am curious which quarterbacks in this dataset are associated with the most points scored for their respective teams. I was originally hoping to include quarterbacks in the model, but there are so many of them in the dataset that the dummy variables would be a little ridiculous. We can still use data visualization and other methods to assess specific QB performance"
   ]
  },
  {
   "cell_type": "code",
   "execution_count": 23,
   "metadata": {},
   "outputs": [
    {
     "data": {
      "text/plain": [
       "Peyton Manning        265\n",
       "Tom Brady             237\n",
       "Brett Favre           235\n",
       "Drew Brees            232\n",
       "Eli Manning           199\n",
       "Ben Roethlisberger    185\n",
       "Kerry Collins         181\n",
       "Philip Rivers         178\n",
       "Matt Hasselbeck       177\n",
       "Carson Palmer         175\n",
       "Donovan McNabb        165\n",
       "Steve McNair          157\n",
       "Drew Bledsoe          150\n",
       "Mark Brunell          146\n",
       "Matt Ryan             142\n",
       "Alex Smith            141\n",
       "Aaron Rodgers         141\n",
       "Jake Plummer          139\n",
       "Jay Cutler            139\n",
       "Joe Flacco            137\n",
       "Jon Kitna             137\n",
       "Brad Johnson          136\n",
       "Michael Vick          134\n",
       "Tony Romo             127\n",
       "Ryan Fitzpatrick      124\n",
       "Kurt Warner           124\n",
       "Jeff Garcia           123\n",
       "Trent Green           120\n",
       "Vinny Testaverde      116\n",
       "Matt Schaub           110\n",
       "                     ... \n",
       "Chris Johnson           1\n",
       "Reggie Wayne            1\n",
       "Chas Henry              1\n",
       "Ryan Longwell           1\n",
       "Kliff Kingsbury         1\n",
       "Patrick Johnson         1\n",
       "Tommy Barnhardt         1\n",
       "Jerheme Urban           1\n",
       "Mohamed Massaquoi       1\n",
       "Steve Weatherford       1\n",
       "Kyle Richardson         1\n",
       "Brandon Lloyd           1\n",
       "Robert Reed             1\n",
       "Connor Shaw             1\n",
       "Brant Boyer             1\n",
       "Eddie Royal             1\n",
       "Tyrone Wheatley         1\n",
       "Randall Cobb            1\n",
       "Randal Hill             1\n",
       "Carlyle Holiday         1\n",
       "Duce Staley             1\n",
       "Dave Zastudil           1\n",
       "DeShaun Foster          1\n",
       "Wally Richardson        1\n",
       "Michael Wiley           1\n",
       "Jerald Sowell           1\n",
       "Ryan Quigley            1\n",
       "Jeff Saturday           1\n",
       "Domanick Williams       1\n",
       "Bilal Powell            1\n",
       "Name: qb, Length: 663, dtype: int64"
      ]
     },
     "execution_count": 23,
     "metadata": {},
     "output_type": "execute_result"
    }
   ],
   "source": [
    "#It looks like Peyton Manning, Tom Brady, Brett Favre, Drew Brees and Eli Manning show up in this dataset the most\n",
    "\n",
    "qb_analysis['qb'].value_counts()"
   ]
  },
  {
   "cell_type": "code",
   "execution_count": 24,
   "metadata": {},
   "outputs": [
    {
     "data": {
      "text/plain": [
       "663"
      ]
     },
     "execution_count": 24,
     "metadata": {},
     "output_type": "execute_result"
    }
   ],
   "source": [
    "#There are 663 unqiue QB names in this dataset. I will probably have to reduce this amount to a certain floor of games played\n",
    "\n",
    "qb_analysis['qb'].nunique() "
   ]
  },
  {
   "cell_type": "code",
   "execution_count": 25,
   "metadata": {},
   "outputs": [
    {
     "data": {
      "text/plain": [
       "1     992\n",
       "30    493\n",
       "33    477\n",
       "35    473\n",
       "31    469\n",
       "34    469\n",
       "29    466\n",
       "32    455\n",
       "27    436\n",
       "28    429\n",
       "36    413\n",
       "26    392\n",
       "25    384\n",
       "37    367\n",
       "23    352\n",
       "39    347\n",
       "24    337\n",
       "38    328\n",
       "40    269\n",
       "41    261\n",
       "22    254\n",
       "21    246\n",
       "42    243\n",
       "2     207\n",
       "20    203\n",
       "43    201\n",
       "44    192\n",
       "19    185\n",
       "18    178\n",
       "45    162\n",
       "     ... \n",
       "0      97\n",
       "14     97\n",
       "6      97\n",
       "12     94\n",
       "48     92\n",
       "7      88\n",
       "10     86\n",
       "13     84\n",
       "9      83\n",
       "49     79\n",
       "8      78\n",
       "50     76\n",
       "51     45\n",
       "52     45\n",
       "53     38\n",
       "54     35\n",
       "55     22\n",
       "56     17\n",
       "58     15\n",
       "57     11\n",
       "59      9\n",
       "62      9\n",
       "61      8\n",
       "60      6\n",
       "63      5\n",
       "65      2\n",
       "64      1\n",
       "68      1\n",
       "69      1\n",
       "67      1\n",
       "Name: att, Length: 69, dtype: int64"
      ]
     },
     "execution_count": 25,
     "metadata": {},
     "output_type": "execute_result"
    }
   ],
   "source": [
    "#I am going to filter QBs by attempts. \n",
    "#There are 992 instances of 1 throwing attempt and 97 instances of 0 throwing attempts\n",
    "#Those do not have much importance in assessing QB performance\n",
    "\n",
    "qb_analysis['att'].value_counts()"
   ]
  },
  {
   "cell_type": "code",
   "execution_count": 26,
   "metadata": {},
   "outputs": [],
   "source": [
    "#I am going to start by filtering out all rows where the QB threw less than 10 times in the game\n",
    "\n",
    "qb_analysis = qb_analysis[qb_analysis.att >= 10]"
   ]
  },
  {
   "cell_type": "code",
   "execution_count": 27,
   "metadata": {},
   "outputs": [
    {
     "data": {
      "text/plain": [
       "285"
      ]
     },
     "execution_count": 27,
     "metadata": {},
     "output_type": "execute_result"
    }
   ],
   "source": [
    "#There are now 285 unique QB names in the dataset\n",
    "#A drastic drop from the original 673\n",
    "\n",
    "qb_analysis['qb'].nunique()"
   ]
  },
  {
   "cell_type": "code",
   "execution_count": 28,
   "metadata": {},
   "outputs": [
    {
     "data": {
      "text/plain": [
       "(11055, 14)"
      ]
     },
     "execution_count": 28,
     "metadata": {},
     "output_type": "execute_result"
    }
   ],
   "source": [
    "#There are still 11,055 rows of data to work with, so we did not dwindle the dataset too much\n",
    "\n",
    "qb_analysis.shape"
   ]
  },
  {
   "cell_type": "code",
   "execution_count": 29,
   "metadata": {},
   "outputs": [],
   "source": [
    "#Here I am calibrating the dataset to group QBs by certain metrics regarding team points\n",
    "\n",
    "qb_points = qb_analysis.groupby('qb').agg({'game_points': ['sum', 'mean', 'median']})\n",
    "qb_points.columns = ['Total_Points', 'PPG', 'Median_Points']"
   ]
  },
  {
   "cell_type": "code",
   "execution_count": 30,
   "metadata": {},
   "outputs": [
    {
     "data": {
      "text/html": [
       "<div>\n",
       "<style scoped>\n",
       "    .dataframe tbody tr th:only-of-type {\n",
       "        vertical-align: middle;\n",
       "    }\n",
       "\n",
       "    .dataframe tbody tr th {\n",
       "        vertical-align: top;\n",
       "    }\n",
       "\n",
       "    .dataframe thead th {\n",
       "        text-align: right;\n",
       "    }\n",
       "</style>\n",
       "<table border=\"1\" class=\"dataframe\">\n",
       "  <thead>\n",
       "    <tr style=\"text-align: right;\">\n",
       "      <th></th>\n",
       "      <th>Total_Points</th>\n",
       "      <th>PPG</th>\n",
       "      <th>Median_Points</th>\n",
       "    </tr>\n",
       "    <tr>\n",
       "      <th>qb</th>\n",
       "      <th></th>\n",
       "      <th></th>\n",
       "      <th></th>\n",
       "    </tr>\n",
       "  </thead>\n",
       "  <tbody>\n",
       "    <tr>\n",
       "      <th>AJ Feely</th>\n",
       "      <td>513</td>\n",
       "      <td>19.000000</td>\n",
       "      <td>20.0</td>\n",
       "    </tr>\n",
       "    <tr>\n",
       "      <th>Aaron Brooks</th>\n",
       "      <td>1858</td>\n",
       "      <td>20.644444</td>\n",
       "      <td>21.0</td>\n",
       "    </tr>\n",
       "    <tr>\n",
       "      <th>Aaron Rodgers</th>\n",
       "      <td>3750</td>\n",
       "      <td>27.372263</td>\n",
       "      <td>27.0</td>\n",
       "    </tr>\n",
       "    <tr>\n",
       "      <th>Akili Smith</th>\n",
       "      <td>155</td>\n",
       "      <td>9.687500</td>\n",
       "      <td>8.5</td>\n",
       "    </tr>\n",
       "    <tr>\n",
       "      <th>Alex Smith</th>\n",
       "      <td>2994</td>\n",
       "      <td>21.854015</td>\n",
       "      <td>21.0</td>\n",
       "    </tr>\n",
       "  </tbody>\n",
       "</table>\n",
       "</div>"
      ],
      "text/plain": [
       "               Total_Points        PPG  Median_Points\n",
       "qb                                                   \n",
       "AJ Feely                513  19.000000           20.0\n",
       "Aaron Brooks           1858  20.644444           21.0\n",
       "Aaron Rodgers          3750  27.372263           27.0\n",
       "Akili Smith             155   9.687500            8.5\n",
       "Alex Smith             2994  21.854015           21.0"
      ]
     },
     "execution_count": 30,
     "metadata": {},
     "output_type": "execute_result"
    }
   ],
   "source": [
    "qb_points.head()"
   ]
  },
  {
   "cell_type": "code",
   "execution_count": 31,
   "metadata": {},
   "outputs": [
    {
     "data": {
      "text/html": [
       "<div>\n",
       "<style scoped>\n",
       "    .dataframe tbody tr th:only-of-type {\n",
       "        vertical-align: middle;\n",
       "    }\n",
       "\n",
       "    .dataframe tbody tr th {\n",
       "        vertical-align: top;\n",
       "    }\n",
       "\n",
       "    .dataframe thead th {\n",
       "        text-align: right;\n",
       "    }\n",
       "</style>\n",
       "<table border=\"1\" class=\"dataframe\">\n",
       "  <thead>\n",
       "    <tr style=\"text-align: right;\">\n",
       "      <th></th>\n",
       "      <th>Total_Points</th>\n",
       "      <th>PPG</th>\n",
       "      <th>Median_Points</th>\n",
       "    </tr>\n",
       "    <tr>\n",
       "      <th>qb</th>\n",
       "      <th></th>\n",
       "      <th></th>\n",
       "      <th></th>\n",
       "    </tr>\n",
       "  </thead>\n",
       "  <tbody>\n",
       "    <tr>\n",
       "      <th>Peyton Manning</th>\n",
       "      <td>7116</td>\n",
       "      <td>27.264368</td>\n",
       "      <td>27.0</td>\n",
       "    </tr>\n",
       "    <tr>\n",
       "      <th>Tom Brady</th>\n",
       "      <td>6616</td>\n",
       "      <td>28.153191</td>\n",
       "      <td>28.0</td>\n",
       "    </tr>\n",
       "    <tr>\n",
       "      <th>Drew Brees</th>\n",
       "      <td>6156</td>\n",
       "      <td>26.765217</td>\n",
       "      <td>27.0</td>\n",
       "    </tr>\n",
       "    <tr>\n",
       "      <th>Brett Favre</th>\n",
       "      <td>5720</td>\n",
       "      <td>24.549356</td>\n",
       "      <td>25.0</td>\n",
       "    </tr>\n",
       "    <tr>\n",
       "      <th>Eli Manning</th>\n",
       "      <td>4684</td>\n",
       "      <td>23.656566</td>\n",
       "      <td>23.5</td>\n",
       "    </tr>\n",
       "  </tbody>\n",
       "</table>\n",
       "</div>"
      ],
      "text/plain": [
       "                Total_Points        PPG  Median_Points\n",
       "qb                                                    \n",
       "Peyton Manning          7116  27.264368           27.0\n",
       "Tom Brady               6616  28.153191           28.0\n",
       "Drew Brees              6156  26.765217           27.0\n",
       "Brett Favre             5720  24.549356           25.0\n",
       "Eli Manning             4684  23.656566           23.5"
      ]
     },
     "execution_count": 31,
     "metadata": {},
     "output_type": "execute_result"
    }
   ],
   "source": [
    "#These are the QBs with the most total points in the dataset\n",
    "\n",
    "qb_points.sort_values(by=\"Total_Points\", ascending=False).head()"
   ]
  },
  {
   "cell_type": "code",
   "execution_count": 32,
   "metadata": {},
   "outputs": [],
   "source": [
    "#Here I am filtering out the top five in most points\n",
    "\n",
    "most_points = qb_analysis[(qb_analysis[\"qb\"]==\"Peyton Manning\") | (qb_analysis[\"qb\"]== 'Tom Brady') | (qb_analysis[\"qb\"]== 'Drew Brees') | (qb_analysis[\"qb\"]== 'Brett Favre') | (qb_analysis[\"qb\"]== 'Eli Manning')]"
   ]
  },
  {
   "cell_type": "code",
   "execution_count": 33,
   "metadata": {},
   "outputs": [],
   "source": [
    "#Then I am using groupby again to allow for top five in total points for graphing\n",
    "\n",
    "top_five_total = most_points.groupby('qb').agg({'game_points': ['sum', 'mean', 'median']})\n",
    "top_five_total.columns = ['Total_Points', 'PPG', 'Median_Points']"
   ]
  },
  {
   "cell_type": "code",
   "execution_count": 34,
   "metadata": {},
   "outputs": [
    {
     "data": {
      "image/png": "[encoded data removed]",
      "text/plain": [
       "<Figure size 1440x720 with 1 Axes>"
      ]
     },
     "metadata": {
      "needs_background": "light"
     },
     "output_type": "display_data"
    }
   ],
   "source": [
    "#Here is a bar chart plotting the total points scored for the top five QBs in the dataset\n",
    "\n",
    "ax = top_five_total.sort_values('Total_Points', ascending = False).plot.bar(y='Total_Points', rot=0, figsize=(20,10))\n",
    "plt.ylabel(\"Total Points\")\n",
    "plt.xlabel(\"QB Name\")\n",
    "plt.title(\"Total Points Scored per Quaterback\");"
   ]
  },
  {
   "cell_type": "code",
   "execution_count": 35,
   "metadata": {},
   "outputs": [
    {
     "data": {
      "image/png": "[encoded data removed]",
      "text/plain": [
       "<Figure size 1440x720 with 1 Axes>"
      ]
     },
     "metadata": {
      "needs_background": "light"
     },
     "output_type": "display_data"
    }
   ],
   "source": [
    "#Here is a bar chart plotting the PPG for the top five QBs in the dataset\n",
    "\n",
    "ax = top_five_total.sort_values('PPG', ascending = False).plot.bar(y='PPG', rot=0, figsize=(20,10))\n",
    "plt.ylabel(\"Points Per Game\")\n",
    "plt.xlabel(\"QB Name\")\n",
    "plt.title(\"PPG Scored per Quaterback\");"
   ]
  },
  {
   "cell_type": "code",
   "execution_count": 36,
   "metadata": {},
   "outputs": [
    {
     "data": {
      "text/html": [
       "<div>\n",
       "<style scoped>\n",
       "    .dataframe tbody tr th:only-of-type {\n",
       "        vertical-align: middle;\n",
       "    }\n",
       "\n",
       "    .dataframe tbody tr th {\n",
       "        vertical-align: top;\n",
       "    }\n",
       "\n",
       "    .dataframe thead th {\n",
       "        text-align: right;\n",
       "    }\n",
       "</style>\n",
       "<table border=\"1\" class=\"dataframe\">\n",
       "  <thead>\n",
       "    <tr style=\"text-align: right;\">\n",
       "      <th></th>\n",
       "      <th>Total_Points</th>\n",
       "      <th>PPG</th>\n",
       "      <th>Median_Points</th>\n",
       "    </tr>\n",
       "    <tr>\n",
       "      <th>qb</th>\n",
       "      <th></th>\n",
       "      <th></th>\n",
       "      <th></th>\n",
       "    </tr>\n",
       "  </thead>\n",
       "  <tbody>\n",
       "    <tr>\n",
       "      <th>Steve Matthews</th>\n",
       "      <td>40</td>\n",
       "      <td>40.000000</td>\n",
       "      <td>40.0</td>\n",
       "    </tr>\n",
       "    <tr>\n",
       "      <th>Joe Germaine</th>\n",
       "      <td>31</td>\n",
       "      <td>31.000000</td>\n",
       "      <td>31.0</td>\n",
       "    </tr>\n",
       "    <tr>\n",
       "      <th>John Elway</th>\n",
       "      <td>1222</td>\n",
       "      <td>28.418605</td>\n",
       "      <td>30.0</td>\n",
       "    </tr>\n",
       "    <tr>\n",
       "      <th>Tom Brady</th>\n",
       "      <td>6616</td>\n",
       "      <td>28.153191</td>\n",
       "      <td>28.0</td>\n",
       "    </tr>\n",
       "    <tr>\n",
       "      <th>Tom Tupa</th>\n",
       "      <td>28</td>\n",
       "      <td>28.000000</td>\n",
       "      <td>28.0</td>\n",
       "    </tr>\n",
       "  </tbody>\n",
       "</table>\n",
       "</div>"
      ],
      "text/plain": [
       "                Total_Points        PPG  Median_Points\n",
       "qb                                                    \n",
       "Steve Matthews            40  40.000000           40.0\n",
       "Joe Germaine              31  31.000000           31.0\n",
       "John Elway              1222  28.418605           30.0\n",
       "Tom Brady               6616  28.153191           28.0\n",
       "Tom Tupa                  28  28.000000           28.0"
      ]
     },
     "execution_count": 36,
     "metadata": {},
     "output_type": "execute_result"
    }
   ],
   "source": [
    "#These are the QBs with the most PPG in the dataset\n",
    "#There are some interesting values here\n",
    "#For example, Steve Matthews and Tom Tupa clearly only played one game in this dataset\n",
    "#They were succesful for that one game apparently \n",
    "\n",
    "qb_points.sort_values(by=\"PPG\", ascending=False).head()"
   ]
  },
  {
   "cell_type": "markdown",
   "metadata": {},
   "source": [
    "# Further Data Cleaning"
   ]
  },
  {
   "cell_type": "markdown",
   "metadata": {},
   "source": [
    "I need to add categorical variables to my model. Before I convert them into dummy variables I should check how feasible they are to do that."
   ]
  },
  {
   "cell_type": "code",
   "execution_count": 37,
   "metadata": {},
   "outputs": [
    {
     "data": {
      "text/plain": [
       "home    5534\n",
       "away    5521\n",
       "Name: home_away, dtype: int64"
      ]
     },
     "execution_count": 37,
     "metadata": {},
     "output_type": "execute_result"
    }
   ],
   "source": [
    "#Home and away is a classic binary outcome variable that can be used as a dummy variable. No need to change anything\n",
    "\n",
    "qb_analysis['home_away'].value_counts()"
   ]
  },
  {
   "cell_type": "code",
   "execution_count": 38,
   "metadata": {},
   "outputs": [
    {
     "data": {
      "text/plain": [
       "1999    546\n",
       "2003    539\n",
       "2007    538\n",
       "2010    538\n",
       "2009    535\n",
       "2005    533\n",
       "2002    529\n",
       "1997    529\n",
       "2004    528\n",
       "2012    525\n",
       "2016    524\n",
       "2014    524\n",
       "2015    523\n",
       "2000    523\n",
       "2011    522\n",
       "1998    521\n",
       "2008    520\n",
       "2006    517\n",
       "2001    517\n",
       "1996    513\n",
       "2013    511\n",
       "Name: year, dtype: int64"
      ]
     },
     "execution_count": 38,
     "metadata": {},
     "output_type": "execute_result"
    }
   ],
   "source": [
    "#Here are the value counts for year\n",
    "#There seems to be approximately the same amount of values per year\n",
    "\n",
    "qb_analysis['year'].value_counts()"
   ]
  },
  {
   "cell_type": "code",
   "execution_count": 39,
   "metadata": {},
   "outputs": [
    {
     "data": {
      "text/plain": [
       "21"
      ]
     },
     "execution_count": 39,
     "metadata": {},
     "output_type": "execute_result"
    }
   ],
   "source": [
    "#There are 21 unique values for year\n",
    "#That's too many dummy variables\n",
    "#I am going to convert years to time periods\n",
    "\n",
    "qb_analysis['year'].nunique()"
   ]
  },
  {
   "cell_type": "code",
   "execution_count": 40,
   "metadata": {},
   "outputs": [
    {
     "name": "stdout",
     "output_type": "stream",
     "text": [
      "0        Nineties_Era\n",
      "1        Nineties_Era\n",
      "3        Nineties_Era\n",
      "4        Nineties_Era\n",
      "5        Nineties_Era\n",
      "6        Nineties_Era\n",
      "7        Nineties_Era\n",
      "9        Nineties_Era\n",
      "10       Nineties_Era\n",
      "11       Nineties_Era\n",
      "12       Nineties_Era\n",
      "13       Nineties_Era\n",
      "14       Nineties_Era\n",
      "15       Nineties_Era\n",
      "16       Nineties_Era\n",
      "17       Nineties_Era\n",
      "20       Nineties_Era\n",
      "21       Nineties_Era\n",
      "23       Nineties_Era\n",
      "24       Nineties_Era\n",
      "25       Nineties_Era\n",
      "26       Nineties_Era\n",
      "27       Nineties_Era\n",
      "29       Nineties_Era\n",
      "30       Nineties_Era\n",
      "31       Nineties_Era\n",
      "33       Nineties_Era\n",
      "34       Nineties_Era\n",
      "36       Nineties_Era\n",
      "37       Nineties_Era\n",
      "             ...     \n",
      "13144     Early_2010s\n",
      "13145     Early_2010s\n",
      "13146     Early_2010s\n",
      "13147     Early_2010s\n",
      "13149     Early_2010s\n",
      "13150     Early_2010s\n",
      "13151     Early_2010s\n",
      "13152     Early_2010s\n",
      "13153     Early_2010s\n",
      "13154     Early_2010s\n",
      "13155     Early_2010s\n",
      "13157     Early_2010s\n",
      "13159     Early_2010s\n",
      "13160     Early_2010s\n",
      "13163     Early_2010s\n",
      "13166     Early_2010s\n",
      "13167     Early_2010s\n",
      "13168     Early_2010s\n",
      "13171     Early_2010s\n",
      "13172     Early_2010s\n",
      "13173     Early_2010s\n",
      "13174     Early_2010s\n",
      "13176     Early_2010s\n",
      "13180     Early_2010s\n",
      "13181     Early_2010s\n",
      "13182     Early_2010s\n",
      "13183     Early_2010s\n",
      "13184     Early_2010s\n",
      "13185     Early_2010s\n",
      "13187     Early_2010s\n",
      "Name: year, Length: 11055, dtype: object\n"
     ]
    }
   ],
   "source": [
    "#Here I am creating a function to convert the years into four distinct eras \n",
    "#1996-1999 will be \"Nineties_Era\"\n",
    "#2000-2005 will be \"Early_2000s\"\n",
    "#2006-2010 will be \"Late_2000s\"\n",
    "#2011 and above will be \"Early_2010s\"\n",
    "\n",
    "def era_Played(x):\n",
    "    if x in [\"1996\", \"1997\", '1998', '1999']:\n",
    "        return \"Nineties_Era\"\n",
    "    elif x in [\"2000\", \"2001\", '2002', '2003', '2004', '2005']:\n",
    "        return \"Early_2000s\"\n",
    "    elif x in [\"2006\", \"2007\", '2008', '2009', '2010']:\n",
    "        return \"Late_2000s\"\n",
    "    else: return \"Early_2010s\"\n",
    "\n",
    "\n",
    "qb_analysis['year'] = qb_analysis['year'].apply(era_Played)\n",
    "print(qb_analysis['year'])"
   ]
  },
  {
   "cell_type": "code",
   "execution_count": 41,
   "metadata": {},
   "outputs": [
    {
     "data": {
      "text/plain": [
       "Early_2000s     3169\n",
       "Early_2010s     3129\n",
       "Late_2000s      2648\n",
       "Nineties_Era    2109\n",
       "Name: year, dtype: int64"
      ]
     },
     "execution_count": 41,
     "metadata": {},
     "output_type": "execute_result"
    }
   ],
   "source": [
    "#Now there are just four unique values for year. Much better to use for dummy variables\n",
    "\n",
    "qb_analysis['year'].value_counts()"
   ]
  },
  {
   "cell_type": "code",
   "execution_count": 42,
   "metadata": {},
   "outputs": [],
   "source": [
    "#Here I am dropping QB. There are too many QBs to convert into dummy variables\n",
    "#We saw above which QBs had the most points scored, etc.\n",
    "\n",
    "qb_analysis = qb_analysis.drop(['qb'], axis = 'columns')"
   ]
  },
  {
   "cell_type": "code",
   "execution_count": 43,
   "metadata": {},
   "outputs": [],
   "source": [
    "#Here I am officially converting home_away and year into dummy variables\n",
    "\n",
    "qb_analysis = pd.get_dummies(qb_analysis, columns=['home_away', 'year'], drop_first=True)"
   ]
  },
  {
   "cell_type": "code",
   "execution_count": 44,
   "metadata": {},
   "outputs": [
    {
     "data": {
      "text/plain": [
       "(11055, 15)"
      ]
     },
     "execution_count": 44,
     "metadata": {},
     "output_type": "execute_result"
    }
   ],
   "source": [
    "#There are 11,055 rows and 15 columns of data after a second round of cleaning\n",
    "\n",
    "qb_analysis.shape"
   ]
  },
  {
   "cell_type": "markdown",
   "metadata": {},
   "source": [
    "# Model With Dummy Variables"
   ]
  },
  {
   "cell_type": "code",
   "execution_count": 45,
   "metadata": {},
   "outputs": [],
   "source": [
    "#Separating the variables between X and y\n",
    "\n",
    "X = qb_analysis.drop('game_points', axis='columns')\n",
    "y = qb_analysis.loc[:, 'game_points']"
   ]
  },
  {
   "cell_type": "code",
   "execution_count": 46,
   "metadata": {},
   "outputs": [],
   "source": [
    "#Setting up a training set and a test set\n",
    "#test_size = .2 means 20% of the data is set aside for the test set. 80% of the data is used for the training set\n",
    "#You could also use train_size if you wish\n",
    "#I am using the 80/20 split based on conventional use\n",
    "\n",
    "from sklearn.model_selection import train_test_split\n",
    "\n",
    "X_train, X_test, y_train, y_test = train_test_split(X, y, test_size = .2, random_state=30)"
   ]
  },
  {
   "cell_type": "code",
   "execution_count": 47,
   "metadata": {},
   "outputs": [
    {
     "data": {
      "text/plain": [
       "LinearRegression(copy_X=True, fit_intercept=True, n_jobs=None,\n",
       "         normalize=False)"
      ]
     },
     "execution_count": 47,
     "metadata": {},
     "output_type": "execute_result"
    }
   ],
   "source": [
    "#Setting up a linear regression model using the training set\n",
    "\n",
    "from sklearn.linear_model import LinearRegression\n",
    "\n",
    "lr = LinearRegression()\n",
    "\n",
    "lr.fit(X_train, y_train)"
   ]
  },
  {
   "cell_type": "code",
   "execution_count": 48,
   "metadata": {},
   "outputs": [
    {
     "name": "stdout",
     "output_type": "stream",
     "text": [
      "0.5263993006250013\n",
      "0.5636696361538573\n"
     ]
    }
   ],
   "source": [
    "#Scoring the model on the training set and test set.\n",
    "#These are the R-squared values for the training set and test set. \n",
    "\n",
    "print(lr.score(X_train, y_train))\n",
    "print(lr.score(X_test, y_test))"
   ]
  },
  {
   "cell_type": "markdown",
   "metadata": {},
   "source": [
    "#### First Impressions"
   ]
  },
  {
   "cell_type": "markdown",
   "metadata": {},
   "source": [
    "The model improved by a significant amount with some removal of outliers and an addition of categorical variables. The training set and test set captured 53% and 56% of the variance respectively. The good news continues to be the lack of variance between the two sets. Our model is not overfitting while simultaneously is increasing in predictive power. "
   ]
  },
  {
   "cell_type": "markdown",
   "metadata": {},
   "source": [
    "# Checking for Collinearity"
   ]
  },
  {
   "cell_type": "markdown",
   "metadata": {},
   "source": [
    "The good news is that the model has improved. The bad news is that we may need to remove some explanatory variables if there is strong evidence of collinearity."
   ]
  },
  {
   "cell_type": "code",
   "execution_count": 49,
   "metadata": {},
   "outputs": [],
   "source": [
    "#I am pulling just the numeric values\n",
    "\n",
    "qb_analysis_numeric = qb_analysis.select_dtypes(['int64', 'float64', 'int32'])"
   ]
  },
  {
   "cell_type": "code",
   "execution_count": 50,
   "metadata": {},
   "outputs": [
    {
     "data": {
      "image/png": "[encoded data removed]",
      "text/plain": [
       "<Figure size 432x288 with 2 Axes>"
      ]
     },
     "metadata": {
      "needs_background": "light"
     },
     "output_type": "display_data"
    }
   ],
   "source": [
    "#There is extremely high correlation between attempts, completions, and yards\n",
    "#There is extremely high correlation between rate, td, and ypa\n",
    "#There is extremely high correlation between sack and loss\n",
    "#Besides sacks, most of these variables are included in QB rating anyway\n",
    "#You are essentially double counting. I figured that it would still be interesting to look at the data as a whole first\n",
    "\n",
    "ax = sns.heatmap(qb_analysis_numeric.corr(), vmin = -1, vmax = 1, annot=True)"
   ]
  },
  {
   "cell_type": "code",
   "execution_count": 51,
   "metadata": {},
   "outputs": [
    {
     "data": {
      "text/plain": [
       "game_points    1.000000\n",
       "rate           0.641681\n",
       "td             0.633407\n",
       "ypa            0.545576\n",
       "yds            0.405596\n",
       "lg             0.322106\n",
       "cmp            0.213508\n",
       "att            0.037217\n",
       "loss          -0.250339\n",
       "int           -0.250973\n",
       "sack          -0.258005\n",
       "Name: game_points, dtype: float64"
      ]
     },
     "execution_count": 51,
     "metadata": {},
     "output_type": "execute_result"
    }
   ],
   "source": [
    "qb_analysis_numeric.corr().loc[:, 'game_points'].sort_values(ascending=False)"
   ]
  },
  {
   "cell_type": "code",
   "execution_count": 52,
   "metadata": {},
   "outputs": [],
   "source": [
    "#I am dropping the following variables because they are included in rating or not as strongly correlated with points\n",
    "\n",
    "\n",
    "qb_analysis = qb_analysis.drop(['td', 'ypa', 'cmp', 'att', 'loss', 'yds', 'int'], axis = 'columns')"
   ]
  },
  {
   "cell_type": "code",
   "execution_count": 53,
   "metadata": {},
   "outputs": [
    {
     "data": {
      "text/plain": [
       "(11055, 8)"
      ]
     },
     "execution_count": 53,
     "metadata": {},
     "output_type": "execute_result"
    }
   ],
   "source": [
    "#There are 11,055 rows and 8 columns of data after checking for collinearity\n",
    "\n",
    "qb_analysis.shape"
   ]
  },
  {
   "cell_type": "markdown",
   "metadata": {},
   "source": [
    "# Data Visualization"
   ]
  },
  {
   "cell_type": "code",
   "execution_count": 54,
   "metadata": {},
   "outputs": [
    {
     "data": {
      "image/png": "[encoded data removed]",
      "text/plain": [
       "<Figure size 1440x720 with 1 Axes>"
      ]
     },
     "metadata": {
      "needs_background": "light"
     },
     "output_type": "display_data"
    }
   ],
   "source": [
    "#Here is a histogram of game_points, the variable we are trying to predict\n",
    "#This looks close enough to a normal distribution, maybe a slight right skew\n",
    "#I am going to stick with this for now\n",
    "\n",
    "qb_analysis.loc[:,\"game_points\"].plot(kind='hist', bins=30, rot=0, figsize=(20,10)) \n",
    "plt.xlabel(\"Range of Total Points Scored\")\n",
    "plt.title(\"Breakdown of Total Points Scored\");"
   ]
  },
  {
   "cell_type": "code",
   "execution_count": 55,
   "metadata": {},
   "outputs": [
    {
     "data": {
      "text/plain": [
       "game_points          1.000000\n",
       "rate                 0.641681\n",
       "lg                   0.322106\n",
       "home_away_home       0.120933\n",
       "year_Early_2010s     0.079088\n",
       "year_Late_2000s      0.000518\n",
       "year_Nineties_Era   -0.044382\n",
       "sack                -0.258005\n",
       "Name: game_points, dtype: float64"
      ]
     },
     "execution_count": 55,
     "metadata": {},
     "output_type": "execute_result"
    }
   ],
   "source": [
    "qb_analysis.corr().loc[:, 'game_points'].sort_values(ascending=False)"
   ]
  },
  {
   "cell_type": "code",
   "execution_count": 56,
   "metadata": {},
   "outputs": [
    {
     "data": {
      "image/png": "[encoded data removed]",
      "text/plain": [
       "<Figure size 1440x720 with 1 Axes>"
      ]
     },
     "metadata": {
      "needs_background": "light"
     },
     "output_type": "display_data"
    }
   ],
   "source": [
    "#There seems to be pretty clear positive correlation between QB rating and points scored\n",
    "\n",
    "ax = qb_analysis.plot(kind='scatter', x='rate', y='game_points', rot=0, figsize=(20,10))\n",
    "plt.ylabel(\"Total Points Scored\")\n",
    "plt.xlabel(\"Passer Rating\")\n",
    "plt.title(\"Rating vs. Points Scored\");"
   ]
  },
  {
   "cell_type": "code",
   "execution_count": 57,
   "metadata": {},
   "outputs": [
    {
     "data": {
      "image/png": "[encoded data removed]",
      "text/plain": [
       "<Figure size 1440x720 with 1 Axes>"
      ]
     },
     "metadata": {
      "needs_background": "light"
     },
     "output_type": "display_data"
    }
   ],
   "source": [
    "#There doesn't seem to be a clear relationship between longest completion and points scored\n",
    "\n",
    "ax = qb_analysis.plot(kind='scatter', x='lg', y='game_points', rot=0, figsize=(20,10))\n",
    "plt.ylabel(\"Total Points Scored\")\n",
    "plt.xlabel(\"Longest Pass Completed\")\n",
    "plt.title(\"Longest Pass vs. Points Scored\");"
   ]
  },
  {
   "cell_type": "code",
   "execution_count": 58,
   "metadata": {},
   "outputs": [
    {
     "data": {
      "image/png": "[encoded data removed]",
      "text/plain": [
       "<Figure size 1440x720 with 1 Axes>"
      ]
     },
     "metadata": {
      "needs_background": "light"
     },
     "output_type": "display_data"
    }
   ],
   "source": [
    "#There seems to be a slight negative relationship between sacks taken and points scored\n",
    "\n",
    "ax = qb_analysis.plot(kind='scatter', x='sack', y='game_points', rot=0, figsize=(20,10))\n",
    "plt.ylabel(\"Total Points Scored\")\n",
    "plt.xlabel(\"Sacks Taken by QB\")\n",
    "plt.title(\"Sacks Taken vs. Points Scored\");"
   ]
  },
  {
   "cell_type": "markdown",
   "metadata": {},
   "source": [
    "# Backwards Elimination"
   ]
  },
  {
   "cell_type": "markdown",
   "metadata": {},
   "source": [
    "I believe it's important to narrow down the truly important variables when explaining outcomes. You could hypothetically keep adding variables and improve accuracy due to how R-Squared is calculated. We don't want that. We only want variables that we can truly focus on for future evaluation. Backwards elimination is my preferred method of determining the best explanatory variables."
   ]
  },
  {
   "cell_type": "code",
   "execution_count": 59,
   "metadata": {},
   "outputs": [],
   "source": [
    "#Separating the variables between X and y\n",
    "\n",
    "X = qb_analysis.drop('game_points', axis='columns')\n",
    "y = qb_analysis.loc[:, 'game_points']"
   ]
  },
  {
   "cell_type": "code",
   "execution_count": 60,
   "metadata": {},
   "outputs": [],
   "source": [
    "#Here I am importing the stats model package that allows for OLS investigation\n",
    "\n",
    "import statsmodels.api as sm"
   ]
  },
  {
   "cell_type": "code",
   "execution_count": 61,
   "metadata": {},
   "outputs": [],
   "source": [
    "#Essentially we need a B0X0\n",
    "#The stats model library is useful, but does not contain the constant column, hence why we add it\n",
    "\n",
    "#This is specifically a column of 11055 \"ones\" since the constant will just multiply by one to keep its value\n",
    "#The append function helps us add a new column to our dataset\n",
    "\n",
    "X = np.append(arr =  np.ones((11055,1)).astype(int), values = X, axis = 1)"
   ]
  },
  {
   "cell_type": "code",
   "execution_count": 62,
   "metadata": {},
   "outputs": [],
   "source": [
    "#The stats model has an OLS method that gives us a nice statistical summary of our model\n",
    "\n",
    "regressor_OLS = sm.OLS(endog = y, exog = X).fit()"
   ]
  },
  {
   "cell_type": "code",
   "execution_count": 63,
   "metadata": {},
   "outputs": [
    {
     "data": {
      "text/html": [
       "<table class=\"simpletable\">\n",
       "<caption>OLS Regression Results</caption>\n",
       "<tr>\n",
       "  <th>Dep. Variable:</th>       <td>game_points</td>   <th>  R-squared:         </th> <td>   0.456</td> \n",
       "</tr>\n",
       "<tr>\n",
       "  <th>Model:</th>                   <td>OLS</td>       <th>  Adj. R-squared:    </th> <td>   0.455</td> \n",
       "</tr>\n",
       "<tr>\n",
       "  <th>Method:</th>             <td>Least Squares</td>  <th>  F-statistic:       </th> <td>   1321.</td> \n",
       "</tr>\n",
       "<tr>\n",
       "  <th>Date:</th>             <td>Mon, 19 Jul 2021</td> <th>  Prob (F-statistic):</th>  <td>  0.00</td>  \n",
       "</tr>\n",
       "<tr>\n",
       "  <th>Time:</th>                 <td>13:10:39</td>     <th>  Log-Likelihood:    </th> <td> -38121.</td> \n",
       "</tr>\n",
       "<tr>\n",
       "  <th>No. Observations:</th>      <td> 11055</td>      <th>  AIC:               </th> <td>7.626e+04</td>\n",
       "</tr>\n",
       "<tr>\n",
       "  <th>Df Residuals:</th>          <td> 11047</td>      <th>  BIC:               </th> <td>7.632e+04</td>\n",
       "</tr>\n",
       "<tr>\n",
       "  <th>Df Model:</th>              <td>     7</td>      <th>                     </th>     <td> </td>    \n",
       "</tr>\n",
       "<tr>\n",
       "  <th>Covariance Type:</th>      <td>nonrobust</td>    <th>                     </th>     <td> </td>    \n",
       "</tr>\n",
       "</table>\n",
       "<table class=\"simpletable\">\n",
       "<tr>\n",
       "    <td></td>       <th>coef</th>     <th>std err</th>      <th>t</th>      <th>P>|t|</th>  <th>[0.025</th>    <th>0.975]</th>  \n",
       "</tr>\n",
       "<tr>\n",
       "  <th>const</th> <td>    3.5807</td> <td>    0.294</td> <td>   12.171</td> <td> 0.000</td> <td>    3.004</td> <td>    4.157</td>\n",
       "</tr>\n",
       "<tr>\n",
       "  <th>x1</th>    <td>    0.0578</td> <td>    0.005</td> <td>   11.713</td> <td> 0.000</td> <td>    0.048</td> <td>    0.067</td>\n",
       "</tr>\n",
       "<tr>\n",
       "  <th>x2</th>    <td>   -1.1043</td> <td>    0.044</td> <td>  -25.342</td> <td> 0.000</td> <td>   -1.190</td> <td>   -1.019</td>\n",
       "</tr>\n",
       "<tr>\n",
       "  <th>x3</th>    <td>    0.2074</td> <td>    0.003</td> <td>   74.669</td> <td> 0.000</td> <td>    0.202</td> <td>    0.213</td>\n",
       "</tr>\n",
       "<tr>\n",
       "  <th>x4</th>    <td>    1.4968</td> <td>    0.145</td> <td>   10.303</td> <td> 0.000</td> <td>    1.212</td> <td>    1.782</td>\n",
       "</tr>\n",
       "<tr>\n",
       "  <th>x5</th>    <td>    0.1817</td> <td>    0.193</td> <td>    0.941</td> <td> 0.347</td> <td>   -0.197</td> <td>    0.560</td>\n",
       "</tr>\n",
       "<tr>\n",
       "  <th>x6</th>    <td>   -0.1635</td> <td>    0.201</td> <td>   -0.815</td> <td> 0.415</td> <td>   -0.557</td> <td>    0.230</td>\n",
       "</tr>\n",
       "<tr>\n",
       "  <th>x7</th>    <td>    0.1644</td> <td>    0.214</td> <td>    0.768</td> <td> 0.442</td> <td>   -0.255</td> <td>    0.584</td>\n",
       "</tr>\n",
       "</table>\n",
       "<table class=\"simpletable\">\n",
       "<tr>\n",
       "  <th>Omnibus:</th>       <td>299.220</td> <th>  Durbin-Watson:     </th> <td>   1.697</td>\n",
       "</tr>\n",
       "<tr>\n",
       "  <th>Prob(Omnibus):</th> <td> 0.000</td>  <th>  Jarque-Bera (JB):  </th> <td> 329.154</td>\n",
       "</tr>\n",
       "<tr>\n",
       "  <th>Skew:</th>          <td> 0.392</td>  <th>  Prob(JB):          </th> <td>3.35e-72</td>\n",
       "</tr>\n",
       "<tr>\n",
       "  <th>Kurtosis:</th>      <td> 3.315</td>  <th>  Cond. No.          </th> <td>    440.</td>\n",
       "</tr>\n",
       "</table><br/><br/>Warnings:<br/>[1] Standard Errors assume that the covariance matrix of the errors is correctly specified."
      ],
      "text/plain": [
       "<class 'statsmodels.iolib.summary.Summary'>\n",
       "\"\"\"\n",
       "                            OLS Regression Results                            \n",
       "==============================================================================\n",
       "Dep. Variable:            game_points   R-squared:                       0.456\n",
       "Model:                            OLS   Adj. R-squared:                  0.455\n",
       "Method:                 Least Squares   F-statistic:                     1321.\n",
       "Date:                Mon, 19 Jul 2021   Prob (F-statistic):               0.00\n",
       "Time:                        13:10:39   Log-Likelihood:                -38121.\n",
       "No. Observations:               11055   AIC:                         7.626e+04\n",
       "Df Residuals:                   11047   BIC:                         7.632e+04\n",
       "Df Model:                           7                                         \n",
       "Covariance Type:            nonrobust                                         \n",
       "==============================================================================\n",
       "                 coef    std err          t      P>|t|      [0.025      0.975]\n",
       "------------------------------------------------------------------------------\n",
       "const          3.5807      0.294     12.171      0.000       3.004       4.157\n",
       "x1             0.0578      0.005     11.713      0.000       0.048       0.067\n",
       "x2            -1.1043      0.044    -25.342      0.000      -1.190      -1.019\n",
       "x3             0.2074      0.003     74.669      0.000       0.202       0.213\n",
       "x4             1.4968      0.145     10.303      0.000       1.212       1.782\n",
       "x5             0.1817      0.193      0.941      0.347      -0.197       0.560\n",
       "x6            -0.1635      0.201     -0.815      0.415      -0.557       0.230\n",
       "x7             0.1644      0.214      0.768      0.442      -0.255       0.584\n",
       "==============================================================================\n",
       "Omnibus:                      299.220   Durbin-Watson:                   1.697\n",
       "Prob(Omnibus):                  0.000   Jarque-Bera (JB):              329.154\n",
       "Skew:                           0.392   Prob(JB):                     3.35e-72\n",
       "Kurtosis:                       3.315   Cond. No.                         440.\n",
       "==============================================================================\n",
       "\n",
       "Warnings:\n",
       "[1] Standard Errors assume that the covariance matrix of the errors is correctly specified.\n",
       "\"\"\""
      ]
     },
     "execution_count": 63,
     "metadata": {},
     "output_type": "execute_result"
    }
   ],
   "source": [
    "#Here is the OLS summary\n",
    "#X5, X6, and X7 are not statistically significant at the 5% level\n",
    "\n",
    "regressor_OLS.summary()"
   ]
  },
  {
   "cell_type": "code",
   "execution_count": 64,
   "metadata": {},
   "outputs": [
    {
     "data": {
      "text/html": [
       "<div>\n",
       "<style scoped>\n",
       "    .dataframe tbody tr th:only-of-type {\n",
       "        vertical-align: middle;\n",
       "    }\n",
       "\n",
       "    .dataframe tbody tr th {\n",
       "        vertical-align: top;\n",
       "    }\n",
       "\n",
       "    .dataframe thead th {\n",
       "        text-align: right;\n",
       "    }\n",
       "</style>\n",
       "<table border=\"1\" class=\"dataframe\">\n",
       "  <thead>\n",
       "    <tr style=\"text-align: right;\">\n",
       "      <th></th>\n",
       "      <th>lg</th>\n",
       "      <th>sack</th>\n",
       "      <th>rate</th>\n",
       "      <th>game_points</th>\n",
       "      <th>home_away_home</th>\n",
       "      <th>year_Early_2010s</th>\n",
       "      <th>year_Late_2000s</th>\n",
       "      <th>year_Nineties_Era</th>\n",
       "    </tr>\n",
       "  </thead>\n",
       "  <tbody>\n",
       "    <tr>\n",
       "      <th>0</th>\n",
       "      <td>20</td>\n",
       "      <td>2.0</td>\n",
       "      <td>82.9</td>\n",
       "      <td>13</td>\n",
       "      <td>0</td>\n",
       "      <td>0</td>\n",
       "      <td>0</td>\n",
       "      <td>1</td>\n",
       "    </tr>\n",
       "    <tr>\n",
       "      <th>1</th>\n",
       "      <td>35</td>\n",
       "      <td>0.0</td>\n",
       "      <td>98.1</td>\n",
       "      <td>20</td>\n",
       "      <td>1</td>\n",
       "      <td>0</td>\n",
       "      <td>0</td>\n",
       "      <td>1</td>\n",
       "    </tr>\n",
       "    <tr>\n",
       "      <th>3</th>\n",
       "      <td>55</td>\n",
       "      <td>7.0</td>\n",
       "      <td>65.8</td>\n",
       "      <td>6</td>\n",
       "      <td>0</td>\n",
       "      <td>0</td>\n",
       "      <td>0</td>\n",
       "      <td>1</td>\n",
       "    </tr>\n",
       "    <tr>\n",
       "      <th>4</th>\n",
       "      <td>30</td>\n",
       "      <td>4.0</td>\n",
       "      <td>95.9</td>\n",
       "      <td>29</td>\n",
       "      <td>1</td>\n",
       "      <td>0</td>\n",
       "      <td>0</td>\n",
       "      <td>1</td>\n",
       "    </tr>\n",
       "    <tr>\n",
       "      <th>5</th>\n",
       "      <td>46</td>\n",
       "      <td>3.0</td>\n",
       "      <td>61.0</td>\n",
       "      <td>16</td>\n",
       "      <td>0</td>\n",
       "      <td>0</td>\n",
       "      <td>0</td>\n",
       "      <td>1</td>\n",
       "    </tr>\n",
       "  </tbody>\n",
       "</table>\n",
       "</div>"
      ],
      "text/plain": [
       "   lg  sack  rate  game_points  home_away_home  year_Early_2010s  \\\n",
       "0  20   2.0  82.9           13               0                 0   \n",
       "1  35   0.0  98.1           20               1                 0   \n",
       "3  55   7.0  65.8            6               0                 0   \n",
       "4  30   4.0  95.9           29               1                 0   \n",
       "5  46   3.0  61.0           16               0                 0   \n",
       "\n",
       "   year_Late_2000s  year_Nineties_Era  \n",
       "0                0                  1  \n",
       "1                0                  1  \n",
       "3                0                  1  \n",
       "4                0                  1  \n",
       "5                0                  1  "
      ]
     },
     "execution_count": 64,
     "metadata": {},
     "output_type": "execute_result"
    }
   ],
   "source": [
    "qb_analysis.head()"
   ]
  },
  {
   "cell_type": "code",
   "execution_count": 65,
   "metadata": {},
   "outputs": [
    {
     "data": {
      "text/plain": [
       "array([1., 1., 1., ..., 1., 1., 1.])"
      ]
     },
     "execution_count": 65,
     "metadata": {},
     "output_type": "execute_result"
    }
   ],
   "source": [
    "#The constant, B0\n",
    "\n",
    "X[:, 0]"
   ]
  },
  {
   "cell_type": "code",
   "execution_count": 66,
   "metadata": {},
   "outputs": [
    {
     "data": {
      "text/plain": [
       "array([20., 35., 55., ..., 23., 42., 29.])"
      ]
     },
     "execution_count": 66,
     "metadata": {},
     "output_type": "execute_result"
    }
   ],
   "source": [
    "#X1 = longest throw\n",
    "\n",
    "X[:, 1]"
   ]
  },
  {
   "cell_type": "code",
   "execution_count": 67,
   "metadata": {},
   "outputs": [
    {
     "data": {
      "text/plain": [
       "array([2., 0., 7., ..., 0., 1., 5.])"
      ]
     },
     "execution_count": 67,
     "metadata": {},
     "output_type": "execute_result"
    }
   ],
   "source": [
    "#X2 = Sacks taken\n",
    "\n",
    "X[:, 2]"
   ]
  },
  {
   "cell_type": "code",
   "execution_count": 68,
   "metadata": {},
   "outputs": [
    {
     "data": {
      "text/plain": [
       "array([ 82.9,  98.1,  65.8, ...,  75.4,  95.6, 122.3])"
      ]
     },
     "execution_count": 68,
     "metadata": {},
     "output_type": "execute_result"
    }
   ],
   "source": [
    "#X3 = Rating\n",
    "\n",
    "X[:, 3]"
   ]
  },
  {
   "cell_type": "code",
   "execution_count": 69,
   "metadata": {},
   "outputs": [
    {
     "data": {
      "text/plain": [
       "array([0., 1., 0., ..., 1., 0., 1.])"
      ]
     },
     "execution_count": 69,
     "metadata": {},
     "output_type": "execute_result"
    }
   ],
   "source": [
    "#X4 = Home vs. away\n",
    "\n",
    "X[:, 4]"
   ]
  },
  {
   "cell_type": "code",
   "execution_count": 70,
   "metadata": {},
   "outputs": [
    {
     "data": {
      "text/plain": [
       "array([0., 0., 0., ..., 1., 1., 1.])"
      ]
     },
     "execution_count": 70,
     "metadata": {},
     "output_type": "execute_result"
    }
   ],
   "source": [
    "#X5 = year_Early_2010s\n",
    "\n",
    "X[:, 5]"
   ]
  },
  {
   "cell_type": "code",
   "execution_count": 71,
   "metadata": {},
   "outputs": [
    {
     "data": {
      "text/plain": [
       "array([0., 0., 0., ..., 0., 0., 0.])"
      ]
     },
     "execution_count": 71,
     "metadata": {},
     "output_type": "execute_result"
    }
   ],
   "source": [
    "#X6 = year_Late_2000s\n",
    "\n",
    "X[:, 6]"
   ]
  },
  {
   "cell_type": "code",
   "execution_count": 72,
   "metadata": {},
   "outputs": [
    {
     "data": {
      "text/plain": [
       "array([1., 1., 1., ..., 0., 0., 0.])"
      ]
     },
     "execution_count": 72,
     "metadata": {},
     "output_type": "execute_result"
    }
   ],
   "source": [
    "#X7 = year_Nineties_Era\n",
    "\n",
    "X[:, 7]"
   ]
  },
  {
   "cell_type": "code",
   "execution_count": 73,
   "metadata": {},
   "outputs": [],
   "source": [
    "#I am going to drop all eras from the dataset since none were significant\n",
    "#I find this surprising since points have increased each era due to better rules for the offense\n",
    "\n",
    "qb_analysis = qb_analysis.drop(['year_Early_2010s', 'year_Late_2000s', 'year_Nineties_Era'], axis = 'columns')"
   ]
  },
  {
   "cell_type": "code",
   "execution_count": 74,
   "metadata": {},
   "outputs": [
    {
     "data": {
      "text/html": [
       "<div>\n",
       "<style scoped>\n",
       "    .dataframe tbody tr th:only-of-type {\n",
       "        vertical-align: middle;\n",
       "    }\n",
       "\n",
       "    .dataframe tbody tr th {\n",
       "        vertical-align: top;\n",
       "    }\n",
       "\n",
       "    .dataframe thead th {\n",
       "        text-align: right;\n",
       "    }\n",
       "</style>\n",
       "<table border=\"1\" class=\"dataframe\">\n",
       "  <thead>\n",
       "    <tr style=\"text-align: right;\">\n",
       "      <th></th>\n",
       "      <th>lg</th>\n",
       "      <th>sack</th>\n",
       "      <th>rate</th>\n",
       "      <th>game_points</th>\n",
       "      <th>home_away_home</th>\n",
       "    </tr>\n",
       "  </thead>\n",
       "  <tbody>\n",
       "    <tr>\n",
       "      <th>0</th>\n",
       "      <td>20</td>\n",
       "      <td>2.0</td>\n",
       "      <td>82.9</td>\n",
       "      <td>13</td>\n",
       "      <td>0</td>\n",
       "    </tr>\n",
       "    <tr>\n",
       "      <th>1</th>\n",
       "      <td>35</td>\n",
       "      <td>0.0</td>\n",
       "      <td>98.1</td>\n",
       "      <td>20</td>\n",
       "      <td>1</td>\n",
       "    </tr>\n",
       "    <tr>\n",
       "      <th>3</th>\n",
       "      <td>55</td>\n",
       "      <td>7.0</td>\n",
       "      <td>65.8</td>\n",
       "      <td>6</td>\n",
       "      <td>0</td>\n",
       "    </tr>\n",
       "    <tr>\n",
       "      <th>4</th>\n",
       "      <td>30</td>\n",
       "      <td>4.0</td>\n",
       "      <td>95.9</td>\n",
       "      <td>29</td>\n",
       "      <td>1</td>\n",
       "    </tr>\n",
       "    <tr>\n",
       "      <th>5</th>\n",
       "      <td>46</td>\n",
       "      <td>3.0</td>\n",
       "      <td>61.0</td>\n",
       "      <td>16</td>\n",
       "      <td>0</td>\n",
       "    </tr>\n",
       "  </tbody>\n",
       "</table>\n",
       "</div>"
      ],
      "text/plain": [
       "   lg  sack  rate  game_points  home_away_home\n",
       "0  20   2.0  82.9           13               0\n",
       "1  35   0.0  98.1           20               1\n",
       "3  55   7.0  65.8            6               0\n",
       "4  30   4.0  95.9           29               1\n",
       "5  46   3.0  61.0           16               0"
      ]
     },
     "execution_count": 74,
     "metadata": {},
     "output_type": "execute_result"
    }
   ],
   "source": [
    "qb_analysis.head()"
   ]
  },
  {
   "cell_type": "markdown",
   "metadata": {},
   "source": [
    "# Random Forest Regression"
   ]
  },
  {
   "cell_type": "markdown",
   "metadata": {},
   "source": [
    "Lots of people rush directly to XGBoost regression and I don't blame them. It's an extremely useful tool. I don't like going straight to it because I think it may hide some things you need to tweak in your model. I am going to run a Random Forest regression first."
   ]
  },
  {
   "cell_type": "code",
   "execution_count": 75,
   "metadata": {},
   "outputs": [],
   "source": [
    "#Separating the variables between X and y\n",
    "\n",
    "X = qb_analysis.drop('game_points', axis='columns')\n",
    "y = qb_analysis.loc[:, 'game_points']"
   ]
  },
  {
   "cell_type": "code",
   "execution_count": 76,
   "metadata": {},
   "outputs": [],
   "source": [
    "#Setting up a training set and a test set\n",
    "#test_size = .2 means 20% of the data is set aside for the test set. 80% of the data is used for the training set\n",
    "#You could also use train_size if you wish\n",
    "\n",
    "from sklearn.model_selection import train_test_split\n",
    "\n",
    "X_train, X_test, y_train, y_test = train_test_split(X, y, test_size = .2, random_state=30)"
   ]
  },
  {
   "cell_type": "code",
   "execution_count": 77,
   "metadata": {},
   "outputs": [
    {
     "data": {
      "text/plain": [
       "RandomForestRegressor(bootstrap=True, criterion='mse', max_depth=None,\n",
       "           max_features='auto', max_leaf_nodes=None,\n",
       "           min_impurity_decrease=0.0, min_impurity_split=None,\n",
       "           min_samples_leaf=1, min_samples_split=2,\n",
       "           min_weight_fraction_leaf=0.0, n_estimators=200, n_jobs=None,\n",
       "           oob_score=False, random_state=None, verbose=0, warm_start=False)"
      ]
     },
     "execution_count": 77,
     "metadata": {},
     "output_type": "execute_result"
    }
   ],
   "source": [
    "#Importing the Random Forest module\n",
    "\n",
    "from sklearn.ensemble import RandomForestRegressor\n",
    "\n",
    "rfr = RandomForestRegressor(n_estimators=200)\n",
    "rfr.fit(X_train, y_train)"
   ]
  },
  {
   "cell_type": "code",
   "execution_count": 78,
   "metadata": {},
   "outputs": [
    {
     "name": "stdout",
     "output_type": "stream",
     "text": [
      "0.9061815695742111\n",
      "0.4049390474433808\n"
     ]
    }
   ],
   "source": [
    "print(rfr.score(X_train, y_train))\n",
    "print(rfr.score(X_test, y_test))"
   ]
  },
  {
   "cell_type": "markdown",
   "metadata": {},
   "source": [
    "#### First Impressions"
   ]
  },
  {
   "cell_type": "markdown",
   "metadata": {},
   "source": [
    "There is massive overfitting in this iteration of Random Forest regression. I will simply move on to XGBoost. "
   ]
  },
  {
   "cell_type": "markdown",
   "metadata": {},
   "source": [
    "# XGBoost Regression"
   ]
  },
  {
   "cell_type": "markdown",
   "metadata": {},
   "source": [
    "Alas, the best choice might be just to use XGBoost. I have implemented it below"
   ]
  },
  {
   "cell_type": "code",
   "execution_count": 79,
   "metadata": {},
   "outputs": [],
   "source": [
    "#Separating the variables between X and y\n",
    "\n",
    "X = qb_analysis.drop('game_points', axis='columns')\n",
    "y = qb_analysis.loc[:, 'game_points']"
   ]
  },
  {
   "cell_type": "code",
   "execution_count": 80,
   "metadata": {},
   "outputs": [],
   "source": [
    "#Setting up a training set and a test set\n",
    "#test_size = .2 means 20% of the data is set aside for the test set. 80% of the data is used for the training set\n",
    "#You could also use train_size if you wish\n",
    "\n",
    "from sklearn.model_selection import train_test_split\n",
    "\n",
    "X_train, X_test, y_train, y_test = train_test_split(X, y, test_size = .2, random_state=30)"
   ]
  },
  {
   "cell_type": "code",
   "execution_count": 81,
   "metadata": {},
   "outputs": [],
   "source": [
    "import xgboost as xgb\n",
    "xgb_reg = xgb.XGBRegressor()"
   ]
  },
  {
   "cell_type": "code",
   "execution_count": 82,
   "metadata": {},
   "outputs": [
    {
     "name": "stdout",
     "output_type": "stream",
     "text": [
      "[13:10:43] WARNING: src/objective/regression_obj.cu:152: reg:linear is now deprecated in favor of reg:squarederror.\n"
     ]
    },
    {
     "name": "stderr",
     "output_type": "stream",
     "text": [
      "C:\\Users\\kalstedh\\AppData\\Local\\Continuum\\anaconda3\\lib\\site-packages\\xgboost\\core.py:587: FutureWarning: Series.base is deprecated and will be removed in a future version\n",
      "  if getattr(data, 'base', None) is not None and \\\n"
     ]
    },
    {
     "data": {
      "text/plain": [
       "XGBRegressor(base_score=0.5, booster='gbtree', colsample_bylevel=1,\n",
       "       colsample_bynode=1, colsample_bytree=1, gamma=0,\n",
       "       importance_type='gain', learning_rate=0.1, max_delta_step=0,\n",
       "       max_depth=3, min_child_weight=1, missing=None, n_estimators=100,\n",
       "       n_jobs=1, nthread=None, objective='reg:linear', random_state=0,\n",
       "       reg_alpha=0, reg_lambda=1, scale_pos_weight=1, seed=None,\n",
       "       silent=None, subsample=1, verbosity=1)"
      ]
     },
     "execution_count": 82,
     "metadata": {},
     "output_type": "execute_result"
    }
   ],
   "source": [
    "xgb_reg.fit(X_train, y_train)"
   ]
  },
  {
   "cell_type": "code",
   "execution_count": 83,
   "metadata": {},
   "outputs": [
    {
     "name": "stdout",
     "output_type": "stream",
     "text": [
      "0.47483380105032447\n",
      "0.48442795372761954\n"
     ]
    }
   ],
   "source": [
    "print(xgb_reg.score(X_train, y_train))\n",
    "print(xgb_reg.score(X_test, y_test))"
   ]
  },
  {
   "cell_type": "markdown",
   "metadata": {},
   "source": [
    "#### First Impressions"
   ]
  },
  {
   "cell_type": "markdown",
   "metadata": {},
   "source": [
    "While it may seem like a disappointment to have this model's R-Squared values to be less than the last linear regression model, we need to take into account our elimination of redundant variables. There's no point in having unnecessary variables in our model just to boost our predictive power. We want the variables that actually explain outcomes"
   ]
  },
  {
   "cell_type": "code",
   "execution_count": 84,
   "metadata": {},
   "outputs": [
    {
     "data": {
      "text/html": [
       "<div>\n",
       "<style scoped>\n",
       "    .dataframe tbody tr th:only-of-type {\n",
       "        vertical-align: middle;\n",
       "    }\n",
       "\n",
       "    .dataframe tbody tr th {\n",
       "        vertical-align: top;\n",
       "    }\n",
       "\n",
       "    .dataframe thead th {\n",
       "        text-align: right;\n",
       "    }\n",
       "</style>\n",
       "<table border=\"1\" class=\"dataframe\">\n",
       "  <thead>\n",
       "    <tr style=\"text-align: right;\">\n",
       "      <th></th>\n",
       "      <th>lg</th>\n",
       "      <th>sack</th>\n",
       "      <th>rate</th>\n",
       "      <th>game_points</th>\n",
       "      <th>home_away_home</th>\n",
       "    </tr>\n",
       "  </thead>\n",
       "  <tbody>\n",
       "    <tr>\n",
       "      <th>0</th>\n",
       "      <td>20</td>\n",
       "      <td>2.0</td>\n",
       "      <td>82.9</td>\n",
       "      <td>13</td>\n",
       "      <td>0</td>\n",
       "    </tr>\n",
       "    <tr>\n",
       "      <th>1</th>\n",
       "      <td>35</td>\n",
       "      <td>0.0</td>\n",
       "      <td>98.1</td>\n",
       "      <td>20</td>\n",
       "      <td>1</td>\n",
       "    </tr>\n",
       "    <tr>\n",
       "      <th>3</th>\n",
       "      <td>55</td>\n",
       "      <td>7.0</td>\n",
       "      <td>65.8</td>\n",
       "      <td>6</td>\n",
       "      <td>0</td>\n",
       "    </tr>\n",
       "    <tr>\n",
       "      <th>4</th>\n",
       "      <td>30</td>\n",
       "      <td>4.0</td>\n",
       "      <td>95.9</td>\n",
       "      <td>29</td>\n",
       "      <td>1</td>\n",
       "    </tr>\n",
       "    <tr>\n",
       "      <th>5</th>\n",
       "      <td>46</td>\n",
       "      <td>3.0</td>\n",
       "      <td>61.0</td>\n",
       "      <td>16</td>\n",
       "      <td>0</td>\n",
       "    </tr>\n",
       "  </tbody>\n",
       "</table>\n",
       "</div>"
      ],
      "text/plain": [
       "   lg  sack  rate  game_points  home_away_home\n",
       "0  20   2.0  82.9           13               0\n",
       "1  35   0.0  98.1           20               1\n",
       "3  55   7.0  65.8            6               0\n",
       "4  30   4.0  95.9           29               1\n",
       "5  46   3.0  61.0           16               0"
      ]
     },
     "execution_count": 84,
     "metadata": {},
     "output_type": "execute_result"
    }
   ],
   "source": [
    "qb_analysis.head()"
   ]
  },
  {
   "cell_type": "markdown",
   "metadata": {},
   "source": [
    "# Final Thoughts"
   ]
  },
  {
   "cell_type": "markdown",
   "metadata": {},
   "source": [
    "#### Overall Variables Used to Determine Total Points in a Football Game"
   ]
  },
  {
   "cell_type": "markdown",
   "metadata": {},
   "source": [
    "1. Whether a game is at home or away\n",
    "\n",
    "2. The passer rating of the quarterback\n",
    "\n",
    "3. The longest completion thrown during the game\n",
    "\n",
    "4. The amount of sacks taken by the quarterback during the game"
   ]
  },
  {
   "cell_type": "code",
   "execution_count": 85,
   "metadata": {},
   "outputs": [
    {
     "name": "stdout",
     "output_type": "stream",
     "text": [
      "[13:10:43] WARNING: src/objective/regression_obj.cu:152: reg:linear is now deprecated in favor of reg:squarederror.\n"
     ]
    },
    {
     "name": "stderr",
     "output_type": "stream",
     "text": [
      "C:\\Users\\kalstedh\\AppData\\Local\\Continuum\\anaconda3\\lib\\site-packages\\xgboost\\core.py:587: FutureWarning: Series.base is deprecated and will be removed in a future version\n",
      "  if getattr(data, 'base', None) is not None and \\\n"
     ]
    }
   ],
   "source": [
    "#Here is a much better visualization of the most important features in the XGBoost model\n",
    "\n",
    "import xgboost as xgb\n",
    "\n",
    "model = xgb.XGBRegressor()\n",
    "model.fit(X_train, y_train)\n",
    "importances = pd.DataFrame(data={\n",
    "    'Attribute': X_train.columns,\n",
    "    'Importance': model.feature_importances_\n",
    "})\n",
    "importances = importances.sort_values(by='Importance', ascending=False)"
   ]
  },
  {
   "cell_type": "code",
   "execution_count": 86,
   "metadata": {},
   "outputs": [
    {
     "data": {
      "image/png": "[encoded data removed]",
      "text/plain": [
       "<Figure size 432x288 with 1 Axes>"
      ]
     },
     "metadata": {
      "needs_background": "light"
     },
     "output_type": "display_data"
    }
   ],
   "source": [
    "plt.bar(x=importances['Attribute'], height=importances['Importance'], color='#087E8B')\n",
    "plt.title('Feature importances obtained from coefficients', size=20)\n",
    "plt.xticks(rotation='vertical')\n",
    "plt.show()"
   ]
  },
  {
   "cell_type": "markdown",
   "metadata": {},
   "source": [
    "Clearly passer rating has the most significance when it comes to predicting total points scored for the team. I would not put too much emphasis on this model and it's outcomes. The dataset was simple. It would be interesting to use this dataset to predict things like wins and losses or MVP voting. I am not denying the significance of passer rating. If a QB has a high passer rating, he is most likely putting his offense in position to score points, whether that be by pass, run, or special teams. "
   ]
  },
  {
   "cell_type": "code",
   "execution_count": null,
   "metadata": {},
   "outputs": [],
   "source": []
  }
 ],
 "metadata": {
  "kernelspec": {
   "display_name": "Python 3",
   "language": "python",
   "name": "python3"
  },
  "language_info": {
   "codemirror_mode": {
    "name": "ipython",
    "version": 3
   },
   "file_extension": ".py",
   "mimetype": "text/x-python",
   "name": "python",
   "nbconvert_exporter": "python",
   "pygments_lexer": "ipython3",
   "version": "3.7.3"
  }
 },
 "nbformat": 4,
 "nbformat_minor": 2
}
