{
 "cells": [
  {
   "cell_type": "markdown",
   "metadata": {},
   "source": [
    "# Project Overview"
   ]
  },
  {
   "cell_type": "markdown",
   "metadata": {},
   "source": [
    "The dataset I am using comes from Kaggle. It has various QB stats from 1996-2016. I want to see if any of the variables describing QB performance have predictive power for total team points.  "
   ]
  },
  {
   "cell_type": "markdown",
   "metadata": {},
   "source": [
    "https://www.kaggle.com/speckledpingu/nfl-qb-stats"
   ]
  },
  {
   "cell_type": "markdown",
   "metadata": {},
   "source": [
    "# Importing Basic Libraries"
   ]
  },
  {
   "cell_type": "code",
   "execution_count": 41,
   "metadata": {},
   "outputs": [],
   "source": [
    "#These are the libraries I typically use in my analysis so I find it easier to import them all at once\n",
    "#If I need more libraries I will import them as needed\n",
    "\n",
    "import matplotlib.pyplot as plt\n",
    "import numpy as np\n",
    "import pandas as pd\n",
    "import seaborn as sns\n",
    "plt.style.use('fivethirtyeight')\n",
    "%matplotlib inline"
   ]
  },
  {
   "cell_type": "markdown",
   "metadata": {},
   "source": [
    "# Initial Review of the Data"
   ]
  },
  {
   "cell_type": "code",
   "execution_count": 42,
   "metadata": {},
   "outputs": [],
   "source": [
    "#Reading in of the dataset\n",
    "\n",
    "qb_analysis = pd.read_csv(\"QBStats_all.csv\")"
   ]
  },
  {
   "cell_type": "code",
   "execution_count": 43,
   "metadata": {},
   "outputs": [
    {
     "data": {
      "text/plain": [
       "(13188, 14)"
      ]
     },
     "execution_count": 43,
     "metadata": {},
     "output_type": "execute_result"
    }
   ],
   "source": [
    "#The beginning structure of this dataset contains 13,188 rows and 14 columns worth of data\n",
    "\n",
    "qb_analysis.shape"
   ]
  },
  {
   "cell_type": "code",
   "execution_count": 44,
   "metadata": {},
   "outputs": [
    {
     "data": {
      "text/plain": [
       "qb              object\n",
       "att              int64\n",
       "cmp              int64\n",
       "yds            float64\n",
       "ypa            float64\n",
       "td               int64\n",
       "int             object\n",
       "lg              object\n",
       "sack           float64\n",
       "loss           float64\n",
       "rate           float64\n",
       "game_points      int64\n",
       "home_away       object\n",
       "year             int64\n",
       "dtype: object"
      ]
     },
     "execution_count": 44,
     "metadata": {},
     "output_type": "execute_result"
    }
   ],
   "source": [
    "#Here I am checking what the data types are for my potential explanatory variables\n",
    "#Looks like most of them are numeric (integers or floats)\n",
    "#However, some like interceptions look like they need to be converted to an integer\n",
    "#Year should also be converted to a string\n",
    "\n",
    "qb_analysis.dtypes"
   ]
  },
  {
   "cell_type": "code",
   "execution_count": 45,
   "metadata": {},
   "outputs": [
    {
     "data": {
      "text/html": [
       "<div>\n",
       "<style scoped>\n",
       "    .dataframe tbody tr th:only-of-type {\n",
       "        vertical-align: middle;\n",
       "    }\n",
       "\n",
       "    .dataframe tbody tr th {\n",
       "        vertical-align: top;\n",
       "    }\n",
       "\n",
       "    .dataframe thead th {\n",
       "        text-align: right;\n",
       "    }\n",
       "</style>\n",
       "<table border=\"1\" class=\"dataframe\">\n",
       "  <thead>\n",
       "    <tr style=\"text-align: right;\">\n",
       "      <th></th>\n",
       "      <th>qb</th>\n",
       "      <th>att</th>\n",
       "      <th>cmp</th>\n",
       "      <th>yds</th>\n",
       "      <th>ypa</th>\n",
       "      <th>td</th>\n",
       "      <th>int</th>\n",
       "      <th>lg</th>\n",
       "      <th>sack</th>\n",
       "      <th>loss</th>\n",
       "      <th>rate</th>\n",
       "      <th>game_points</th>\n",
       "      <th>home_away</th>\n",
       "      <th>year</th>\n",
       "    </tr>\n",
       "  </thead>\n",
       "  <tbody>\n",
       "    <tr>\n",
       "      <th>0</th>\n",
       "      <td>Boomer EsiasonB. Esiason</td>\n",
       "      <td>38</td>\n",
       "      <td>25</td>\n",
       "      <td>237.0</td>\n",
       "      <td>6.2</td>\n",
       "      <td>0</td>\n",
       "      <td>0</td>\n",
       "      <td>20</td>\n",
       "      <td>2.0</td>\n",
       "      <td>11.0</td>\n",
       "      <td>82.9</td>\n",
       "      <td>13</td>\n",
       "      <td>away</td>\n",
       "      <td>1996</td>\n",
       "    </tr>\n",
       "    <tr>\n",
       "      <th>1</th>\n",
       "      <td>Jim HarbaughJ. Harbaugh</td>\n",
       "      <td>25</td>\n",
       "      <td>16</td>\n",
       "      <td>196.0</td>\n",
       "      <td>7.8</td>\n",
       "      <td>2</td>\n",
       "      <td>1</td>\n",
       "      <td>35t</td>\n",
       "      <td>0.0</td>\n",
       "      <td>0.0</td>\n",
       "      <td>98.1</td>\n",
       "      <td>20</td>\n",
       "      <td>home</td>\n",
       "      <td>1996</td>\n",
       "    </tr>\n",
       "    <tr>\n",
       "      <th>2</th>\n",
       "      <td>Paul JustinP. Justin</td>\n",
       "      <td>8</td>\n",
       "      <td>5</td>\n",
       "      <td>53.0</td>\n",
       "      <td>6.6</td>\n",
       "      <td>0</td>\n",
       "      <td>0</td>\n",
       "      <td>30</td>\n",
       "      <td>1.0</td>\n",
       "      <td>11.0</td>\n",
       "      <td>81.8</td>\n",
       "      <td>20</td>\n",
       "      <td>home</td>\n",
       "      <td>1996</td>\n",
       "    </tr>\n",
       "    <tr>\n",
       "      <th>3</th>\n",
       "      <td>Jeff GeorgeJ. George</td>\n",
       "      <td>35</td>\n",
       "      <td>16</td>\n",
       "      <td>215.0</td>\n",
       "      <td>6.1</td>\n",
       "      <td>0</td>\n",
       "      <td>0</td>\n",
       "      <td>55</td>\n",
       "      <td>7.0</td>\n",
       "      <td>53.0</td>\n",
       "      <td>65.8</td>\n",
       "      <td>6</td>\n",
       "      <td>away</td>\n",
       "      <td>1996</td>\n",
       "    </tr>\n",
       "    <tr>\n",
       "      <th>4</th>\n",
       "      <td>Kerry CollinsK. Collins</td>\n",
       "      <td>31</td>\n",
       "      <td>17</td>\n",
       "      <td>198.0</td>\n",
       "      <td>6.4</td>\n",
       "      <td>2</td>\n",
       "      <td>0</td>\n",
       "      <td>30</td>\n",
       "      <td>4.0</td>\n",
       "      <td>12.0</td>\n",
       "      <td>95.9</td>\n",
       "      <td>29</td>\n",
       "      <td>home</td>\n",
       "      <td>1996</td>\n",
       "    </tr>\n",
       "  </tbody>\n",
       "</table>\n",
       "</div>"
      ],
      "text/plain": [
       "                         qb  att  cmp    yds  ypa  td int   lg  sack  loss  \\\n",
       "0  Boomer EsiasonB. Esiason   38   25  237.0  6.2   0   0   20   2.0  11.0   \n",
       "1   Jim HarbaughJ. Harbaugh   25   16  196.0  7.8   2   1  35t   0.0   0.0   \n",
       "2      Paul JustinP. Justin    8    5   53.0  6.6   0   0   30   1.0  11.0   \n",
       "3      Jeff GeorgeJ. George   35   16  215.0  6.1   0   0   55   7.0  53.0   \n",
       "4   Kerry CollinsK. Collins   31   17  198.0  6.4   2   0   30   4.0  12.0   \n",
       "\n",
       "   rate  game_points home_away  year  \n",
       "0  82.9           13      away  1996  \n",
       "1  98.1           20      home  1996  \n",
       "2  81.8           20      home  1996  \n",
       "3  65.8            6      away  1996  \n",
       "4  95.9           29      home  1996  "
      ]
     },
     "execution_count": 45,
     "metadata": {},
     "output_type": "execute_result"
    }
   ],
   "source": [
    "#A brief look at the beginning of the dataset\n",
    "\n",
    "qb_analysis.head()"
   ]
  },
  {
   "cell_type": "code",
   "execution_count": 46,
   "metadata": {},
   "outputs": [
    {
     "data": {
      "text/html": [
       "<div>\n",
       "<style scoped>\n",
       "    .dataframe tbody tr th:only-of-type {\n",
       "        vertical-align: middle;\n",
       "    }\n",
       "\n",
       "    .dataframe tbody tr th {\n",
       "        vertical-align: top;\n",
       "    }\n",
       "\n",
       "    .dataframe thead th {\n",
       "        text-align: right;\n",
       "    }\n",
       "</style>\n",
       "<table border=\"1\" class=\"dataframe\">\n",
       "  <thead>\n",
       "    <tr style=\"text-align: right;\">\n",
       "      <th></th>\n",
       "      <th>qb</th>\n",
       "      <th>att</th>\n",
       "      <th>cmp</th>\n",
       "      <th>yds</th>\n",
       "      <th>ypa</th>\n",
       "      <th>td</th>\n",
       "      <th>int</th>\n",
       "      <th>lg</th>\n",
       "      <th>sack</th>\n",
       "      <th>loss</th>\n",
       "      <th>rate</th>\n",
       "      <th>game_points</th>\n",
       "      <th>home_away</th>\n",
       "      <th>year</th>\n",
       "    </tr>\n",
       "  </thead>\n",
       "  <tbody>\n",
       "    <tr>\n",
       "      <th>13183</th>\n",
       "      <td>Alex SmithA. Smith</td>\n",
       "      <td>28</td>\n",
       "      <td>21</td>\n",
       "      <td>264.0</td>\n",
       "      <td>9.4</td>\n",
       "      <td>2</td>\n",
       "      <td>1</td>\n",
       "      <td>42</td>\n",
       "      <td>1.0</td>\n",
       "      <td>2.0</td>\n",
       "      <td>112.8</td>\n",
       "      <td>37</td>\n",
       "      <td>away</td>\n",
       "      <td>2016</td>\n",
       "    </tr>\n",
       "    <tr>\n",
       "      <th>13184</th>\n",
       "      <td>Philip RiversP. Rivers</td>\n",
       "      <td>38</td>\n",
       "      <td>22</td>\n",
       "      <td>269.0</td>\n",
       "      <td>7.1</td>\n",
       "      <td>2</td>\n",
       "      <td>2</td>\n",
       "      <td>23</td>\n",
       "      <td>0.0</td>\n",
       "      <td>0.0</td>\n",
       "      <td>75.4</td>\n",
       "      <td>27</td>\n",
       "      <td>home</td>\n",
       "      <td>2016</td>\n",
       "    </tr>\n",
       "    <tr>\n",
       "      <th>13185</th>\n",
       "      <td>Russell WilsonR. Wilson</td>\n",
       "      <td>32</td>\n",
       "      <td>19</td>\n",
       "      <td>258.0</td>\n",
       "      <td>8.1</td>\n",
       "      <td>1</td>\n",
       "      <td>0</td>\n",
       "      <td>42</td>\n",
       "      <td>1.0</td>\n",
       "      <td>6.0</td>\n",
       "      <td>95.6</td>\n",
       "      <td>25</td>\n",
       "      <td>away</td>\n",
       "      <td>2016</td>\n",
       "    </tr>\n",
       "    <tr>\n",
       "      <th>13186</th>\n",
       "      <td>Trevone BoykinT. Boykin</td>\n",
       "      <td>6</td>\n",
       "      <td>4</td>\n",
       "      <td>42.0</td>\n",
       "      <td>7.0</td>\n",
       "      <td>0</td>\n",
       "      <td>0</td>\n",
       "      <td>19</td>\n",
       "      <td>1.0</td>\n",
       "      <td>5.0</td>\n",
       "      <td>86.8</td>\n",
       "      <td>25</td>\n",
       "      <td>away</td>\n",
       "      <td>2016</td>\n",
       "    </tr>\n",
       "    <tr>\n",
       "      <th>13187</th>\n",
       "      <td>Colin KaepernickC. Kaepernick</td>\n",
       "      <td>22</td>\n",
       "      <td>17</td>\n",
       "      <td>215.0</td>\n",
       "      <td>9.8</td>\n",
       "      <td>1</td>\n",
       "      <td>0</td>\n",
       "      <td>29</td>\n",
       "      <td>5.0</td>\n",
       "      <td>24.0</td>\n",
       "      <td>122.3</td>\n",
       "      <td>23</td>\n",
       "      <td>home</td>\n",
       "      <td>2016</td>\n",
       "    </tr>\n",
       "  </tbody>\n",
       "</table>\n",
       "</div>"
      ],
      "text/plain": [
       "                                  qb  att  cmp    yds  ypa  td int  lg  sack  \\\n",
       "13183             Alex SmithA. Smith   28   21  264.0  9.4   2   1  42   1.0   \n",
       "13184         Philip RiversP. Rivers   38   22  269.0  7.1   2   2  23   0.0   \n",
       "13185        Russell WilsonR. Wilson   32   19  258.0  8.1   1   0  42   1.0   \n",
       "13186        Trevone BoykinT. Boykin    6    4   42.0  7.0   0   0  19   1.0   \n",
       "13187  Colin KaepernickC. Kaepernick   22   17  215.0  9.8   1   0  29   5.0   \n",
       "\n",
       "       loss   rate  game_points home_away  year  \n",
       "13183   2.0  112.8           37      away  2016  \n",
       "13184   0.0   75.4           27      home  2016  \n",
       "13185   6.0   95.6           25      away  2016  \n",
       "13186   5.0   86.8           25      away  2016  \n",
       "13187  24.0  122.3           23      home  2016  "
      ]
     },
     "execution_count": 46,
     "metadata": {},
     "output_type": "execute_result"
    }
   ],
   "source": [
    "#A brief look at the end of the dataset\n",
    "\n",
    "qb_analysis.tail()"
   ]
  },
  {
   "cell_type": "markdown",
   "metadata": {},
   "source": [
    "# Glossary of Terms"
   ]
  },
  {
   "cell_type": "markdown",
   "metadata": {},
   "source": [
    "1. QB: Quarterback name \n",
    "    \n",
    "2. Att: Throwing attempts during the game\n",
    "    \n",
    "3. Cmp: Completions during the game\n",
    "    \n",
    "4. Yds: Yards thrown during the game\n",
    "    \n",
    "5. Ypa: Yards per attempt in the game\n",
    "    \n",
    "6. TD: Touchdowns thrown during the game\n",
    "    \n",
    "7. Int: Interceptions thrown during the game\n",
    "\n",
    "8. Lg: Longest throw of the game\n",
    "    \n",
    "9. Sack: Sacks taken during the game\n",
    "    \n",
    "10. Loss: Loss of yards from the sack\n",
    "    \n",
    "11. Rate: QB rating during the game\n",
    "    \n",
    "12. Game_Points: Total points scored in the game\n",
    "    \n",
    "13. Home_Away: Home or away game\n",
    "    \n",
    "14. Year: Year the game occurred in"
   ]
  },
  {
   "cell_type": "code",
   "execution_count": 47,
   "metadata": {},
   "outputs": [
    {
     "data": {
      "text/html": [
       "<div>\n",
       "<style scoped>\n",
       "    .dataframe tbody tr th:only-of-type {\n",
       "        vertical-align: middle;\n",
       "    }\n",
       "\n",
       "    .dataframe tbody tr th {\n",
       "        vertical-align: top;\n",
       "    }\n",
       "\n",
       "    .dataframe thead th {\n",
       "        text-align: right;\n",
       "    }\n",
       "</style>\n",
       "<table border=\"1\" class=\"dataframe\">\n",
       "  <thead>\n",
       "    <tr style=\"text-align: right;\">\n",
       "      <th></th>\n",
       "      <th>att</th>\n",
       "      <th>cmp</th>\n",
       "      <th>yds</th>\n",
       "      <th>ypa</th>\n",
       "      <th>td</th>\n",
       "      <th>sack</th>\n",
       "      <th>loss</th>\n",
       "      <th>rate</th>\n",
       "      <th>game_points</th>\n",
       "      <th>year</th>\n",
       "    </tr>\n",
       "  </thead>\n",
       "  <tbody>\n",
       "    <tr>\n",
       "      <th>count</th>\n",
       "      <td>13188.000000</td>\n",
       "      <td>13188.000000</td>\n",
       "      <td>13188.000000</td>\n",
       "      <td>13188.000000</td>\n",
       "      <td>13188.000000</td>\n",
       "      <td>13171.000000</td>\n",
       "      <td>13171.000000</td>\n",
       "      <td>13171.000000</td>\n",
       "      <td>13188.000000</td>\n",
       "      <td>13188.000000</td>\n",
       "    </tr>\n",
       "    <tr>\n",
       "      <th>mean</th>\n",
       "      <td>26.870488</td>\n",
       "      <td>16.121777</td>\n",
       "      <td>186.135118</td>\n",
       "      <td>6.882909</td>\n",
       "      <td>1.118138</td>\n",
       "      <td>1.863108</td>\n",
       "      <td>11.971225</td>\n",
       "      <td>80.242571</td>\n",
       "      <td>21.379436</td>\n",
       "      <td>2005.898923</td>\n",
       "    </tr>\n",
       "    <tr>\n",
       "      <th>std</th>\n",
       "      <td>13.583991</td>\n",
       "      <td>8.774988</td>\n",
       "      <td>105.629874</td>\n",
       "      <td>4.226307</td>\n",
       "      <td>1.119667</td>\n",
       "      <td>1.701091</td>\n",
       "      <td>11.970053</td>\n",
       "      <td>32.068021</td>\n",
       "      <td>10.663992</td>\n",
       "      <td>6.012892</td>\n",
       "    </tr>\n",
       "    <tr>\n",
       "      <th>min</th>\n",
       "      <td>0.000000</td>\n",
       "      <td>-6.000000</td>\n",
       "      <td>-11.000000</td>\n",
       "      <td>-11.000000</td>\n",
       "      <td>0.000000</td>\n",
       "      <td>0.000000</td>\n",
       "      <td>0.000000</td>\n",
       "      <td>0.000000</td>\n",
       "      <td>0.000000</td>\n",
       "      <td>1996.000000</td>\n",
       "    </tr>\n",
       "    <tr>\n",
       "      <th>25%</th>\n",
       "      <td>20.000000</td>\n",
       "      <td>11.000000</td>\n",
       "      <td>115.000000</td>\n",
       "      <td>5.200000</td>\n",
       "      <td>0.000000</td>\n",
       "      <td>0.000000</td>\n",
       "      <td>0.000000</td>\n",
       "      <td>58.600000</td>\n",
       "      <td>13.000000</td>\n",
       "      <td>2001.000000</td>\n",
       "    </tr>\n",
       "    <tr>\n",
       "      <th>50%</th>\n",
       "      <td>29.000000</td>\n",
       "      <td>17.000000</td>\n",
       "      <td>197.000000</td>\n",
       "      <td>6.700000</td>\n",
       "      <td>1.000000</td>\n",
       "      <td>2.000000</td>\n",
       "      <td>9.000000</td>\n",
       "      <td>80.900000</td>\n",
       "      <td>21.000000</td>\n",
       "      <td>2006.000000</td>\n",
       "    </tr>\n",
       "    <tr>\n",
       "      <th>75%</th>\n",
       "      <td>36.000000</td>\n",
       "      <td>22.000000</td>\n",
       "      <td>260.000000</td>\n",
       "      <td>8.100000</td>\n",
       "      <td>2.000000</td>\n",
       "      <td>3.000000</td>\n",
       "      <td>18.000000</td>\n",
       "      <td>102.000000</td>\n",
       "      <td>28.000000</td>\n",
       "      <td>2011.000000</td>\n",
       "    </tr>\n",
       "    <tr>\n",
       "      <th>max</th>\n",
       "      <td>69.000000</td>\n",
       "      <td>58.000000</td>\n",
       "      <td>527.000000</td>\n",
       "      <td>81.000000</td>\n",
       "      <td>7.000000</td>\n",
       "      <td>12.000000</td>\n",
       "      <td>91.000000</td>\n",
       "      <td>158.300000</td>\n",
       "      <td>62.000000</td>\n",
       "      <td>2016.000000</td>\n",
       "    </tr>\n",
       "  </tbody>\n",
       "</table>\n",
       "</div>"
      ],
      "text/plain": [
       "                att           cmp           yds           ypa            td  \\\n",
       "count  13188.000000  13188.000000  13188.000000  13188.000000  13188.000000   \n",
       "mean      26.870488     16.121777    186.135118      6.882909      1.118138   \n",
       "std       13.583991      8.774988    105.629874      4.226307      1.119667   \n",
       "min        0.000000     -6.000000    -11.000000    -11.000000      0.000000   \n",
       "25%       20.000000     11.000000    115.000000      5.200000      0.000000   \n",
       "50%       29.000000     17.000000    197.000000      6.700000      1.000000   \n",
       "75%       36.000000     22.000000    260.000000      8.100000      2.000000   \n",
       "max       69.000000     58.000000    527.000000     81.000000      7.000000   \n",
       "\n",
       "               sack          loss          rate   game_points          year  \n",
       "count  13171.000000  13171.000000  13171.000000  13188.000000  13188.000000  \n",
       "mean       1.863108     11.971225     80.242571     21.379436   2005.898923  \n",
       "std        1.701091     11.970053     32.068021     10.663992      6.012892  \n",
       "min        0.000000      0.000000      0.000000      0.000000   1996.000000  \n",
       "25%        0.000000      0.000000     58.600000     13.000000   2001.000000  \n",
       "50%        2.000000      9.000000     80.900000     21.000000   2006.000000  \n",
       "75%        3.000000     18.000000    102.000000     28.000000   2011.000000  \n",
       "max       12.000000     91.000000    158.300000     62.000000   2016.000000  "
      ]
     },
     "execution_count": 47,
     "metadata": {},
     "output_type": "execute_result"
    }
   ],
   "source": [
    "#Here are some standard statistics from the dataset\n",
    "\n",
    "qb_analysis.describe()"
   ]
  },
  {
   "cell_type": "code",
   "execution_count": 48,
   "metadata": {},
   "outputs": [
    {
     "data": {
      "text/html": [
       "<div>\n",
       "<style scoped>\n",
       "    .dataframe tbody tr th:only-of-type {\n",
       "        vertical-align: middle;\n",
       "    }\n",
       "\n",
       "    .dataframe tbody tr th {\n",
       "        vertical-align: top;\n",
       "    }\n",
       "\n",
       "    .dataframe thead th {\n",
       "        text-align: right;\n",
       "    }\n",
       "</style>\n",
       "<table border=\"1\" class=\"dataframe\">\n",
       "  <thead>\n",
       "    <tr style=\"text-align: right;\">\n",
       "      <th></th>\n",
       "      <th>qb</th>\n",
       "      <th>int</th>\n",
       "      <th>lg</th>\n",
       "      <th>home_away</th>\n",
       "    </tr>\n",
       "  </thead>\n",
       "  <tbody>\n",
       "    <tr>\n",
       "      <th>count</th>\n",
       "      <td>13188</td>\n",
       "      <td>13188</td>\n",
       "      <td>13171</td>\n",
       "      <td>13188</td>\n",
       "    </tr>\n",
       "    <tr>\n",
       "      <th>unique</th>\n",
       "      <td>682</td>\n",
       "      <td>9</td>\n",
       "      <td>195</td>\n",
       "      <td>2</td>\n",
       "    </tr>\n",
       "    <tr>\n",
       "      <th>top</th>\n",
       "      <td>Peyton ManningP. Manning</td>\n",
       "      <td>0</td>\n",
       "      <td>0</td>\n",
       "      <td>home</td>\n",
       "    </tr>\n",
       "    <tr>\n",
       "      <th>freq</th>\n",
       "      <td>265</td>\n",
       "      <td>6384</td>\n",
       "      <td>738</td>\n",
       "      <td>6629</td>\n",
       "    </tr>\n",
       "  </tbody>\n",
       "</table>\n",
       "</div>"
      ],
      "text/plain": [
       "                              qb    int     lg home_away\n",
       "count                      13188  13188  13171     13188\n",
       "unique                       682      9    195         2\n",
       "top     Peyton ManningP. Manning      0      0      home\n",
       "freq                         265   6384    738      6629"
      ]
     },
     "execution_count": 48,
     "metadata": {},
     "output_type": "execute_result"
    }
   ],
   "source": [
    "#Here are some standard statistics from the dataset\n",
    "\n",
    "qb_analysis.describe(include = 'object')"
   ]
  },
  {
   "cell_type": "markdown",
   "metadata": {},
   "source": [
    "# Data Cleaning Round One"
   ]
  },
  {
   "cell_type": "markdown",
   "metadata": {},
   "source": [
    "#### Checking for Null Values"
   ]
  },
  {
   "cell_type": "code",
   "execution_count": 49,
   "metadata": {},
   "outputs": [
    {
     "data": {
      "text/plain": [
       "qb              0\n",
       "att             0\n",
       "cmp             0\n",
       "yds             0\n",
       "ypa             0\n",
       "td              0\n",
       "int             0\n",
       "lg             17\n",
       "sack           17\n",
       "loss           17\n",
       "rate           17\n",
       "game_points     0\n",
       "home_away       0\n",
       "year            0\n",
       "dtype: int64"
      ]
     },
     "execution_count": 49,
     "metadata": {},
     "output_type": "execute_result"
    }
   ],
   "source": [
    "#Thankfully there aren't any null values for sale price\n",
    "#However, there are quite a few columns with many null values\n",
    "\n",
    "qb_analysis.isna().sum() "
   ]
  },
  {
   "cell_type": "code",
   "execution_count": 50,
   "metadata": {},
   "outputs": [],
   "source": [
    "qb_analysis = qb_analysis.dropna()"
   ]
  },
  {
   "cell_type": "code",
   "execution_count": 51,
   "metadata": {},
   "outputs": [
    {
     "data": {
      "text/plain": [
       "qb             0\n",
       "att            0\n",
       "cmp            0\n",
       "yds            0\n",
       "ypa            0\n",
       "td             0\n",
       "int            0\n",
       "lg             0\n",
       "sack           0\n",
       "loss           0\n",
       "rate           0\n",
       "game_points    0\n",
       "home_away      0\n",
       "year           0\n",
       "dtype: int64"
      ]
     },
     "execution_count": 51,
     "metadata": {},
     "output_type": "execute_result"
    }
   ],
   "source": [
    "qb_analysis.isna().sum()"
   ]
  },
  {
   "cell_type": "code",
   "execution_count": 52,
   "metadata": {},
   "outputs": [
    {
     "data": {
      "text/plain": [
       "0      738\n",
       "24     349\n",
       "27     323\n",
       "25     316\n",
       "26     304\n",
       "23     298\n",
       "22     297\n",
       "30     290\n",
       "28     285\n",
       "29     283\n",
       "20     270\n",
       "21     269\n",
       "31     245\n",
       "35     233\n",
       "33     229\n",
       "36     226\n",
       "19     223\n",
       "32     216\n",
       "18     212\n",
       "34     207\n",
       "37     200\n",
       "41     195\n",
       "38     191\n",
       "17     185\n",
       "40     177\n",
       "42     176\n",
       "39     169\n",
       "46     155\n",
       "16     143\n",
       "47     142\n",
       "      ... \n",
       "95t      4\n",
       "5t       4\n",
       "4t       4\n",
       "77       4\n",
       "81       3\n",
       "12t      3\n",
       "98t      3\n",
       "84       3\n",
       "8t       3\n",
       "-3       3\n",
       "-8       3\n",
       "-4       2\n",
       "82       2\n",
       "9t       2\n",
       "6t       2\n",
       "94t      2\n",
       "93t      2\n",
       "83       2\n",
       "80       2\n",
       "95       1\n",
       "-6       1\n",
       "88       1\n",
       "-11      1\n",
       "11t      1\n",
       "86       1\n",
       "92       1\n",
       "92t      1\n",
       "96t      1\n",
       "87       1\n",
       "-7       1\n",
       "Name: lg, Length: 195, dtype: int64"
      ]
     },
     "execution_count": 52,
     "metadata": {},
     "output_type": "execute_result"
    }
   ],
   "source": [
    "qb_analysis['lg'].value_counts()"
   ]
  },
  {
   "cell_type": "code",
   "execution_count": 53,
   "metadata": {},
   "outputs": [],
   "source": [
    "qb_analysis['lg'] = qb_analysis['lg'].str.replace('t','')"
   ]
  },
  {
   "cell_type": "code",
   "execution_count": 54,
   "metadata": {},
   "outputs": [
    {
     "data": {
      "text/plain": [
       "0      738\n",
       "24     387\n",
       "27     368\n",
       "30     366\n",
       "25     358\n",
       "26     348\n",
       "23     336\n",
       "28     333\n",
       "22     332\n",
       "29     331\n",
       "31     315\n",
       "35     308\n",
       "20     300\n",
       "21     296\n",
       "36     287\n",
       "33     282\n",
       "34     273\n",
       "37     265\n",
       "32     262\n",
       "40     243\n",
       "19     241\n",
       "42     236\n",
       "41     236\n",
       "39     235\n",
       "18     233\n",
       "38     231\n",
       "46     201\n",
       "43     199\n",
       "44     197\n",
       "17     196\n",
       "      ... \n",
       "78      28\n",
       "79      25\n",
       "2       22\n",
       "81      20\n",
       "1       19\n",
       "84      16\n",
       "82      16\n",
       "87      15\n",
       "83      13\n",
       "86      12\n",
       "85       9\n",
       "88       7\n",
       "90       7\n",
       "91       6\n",
       "-2       6\n",
       "95       5\n",
       "99       5\n",
       "89       5\n",
       "-1       5\n",
       "-3       3\n",
       "98       3\n",
       "-8       3\n",
       "92       2\n",
       "94       2\n",
       "93       2\n",
       "-4       2\n",
       "-7       1\n",
       "-11      1\n",
       "96       1\n",
       "-6       1\n",
       "Name: lg, Length: 107, dtype: int64"
      ]
     },
     "execution_count": 54,
     "metadata": {},
     "output_type": "execute_result"
    }
   ],
   "source": [
    "qb_analysis['lg'].value_counts()"
   ]
  },
  {
   "cell_type": "code",
   "execution_count": 55,
   "metadata": {},
   "outputs": [],
   "source": [
    "qb_analysis = qb_analysis.astype({'int':int, 'year':str, 'lg':int})"
   ]
  },
  {
   "cell_type": "code",
   "execution_count": 56,
   "metadata": {},
   "outputs": [
    {
     "data": {
      "text/plain": [
       "qb              object\n",
       "att              int64\n",
       "cmp              int64\n",
       "yds            float64\n",
       "ypa            float64\n",
       "td               int64\n",
       "int              int32\n",
       "lg               int32\n",
       "sack           float64\n",
       "loss           float64\n",
       "rate           float64\n",
       "game_points      int64\n",
       "home_away       object\n",
       "year            object\n",
       "dtype: object"
      ]
     },
     "execution_count": 56,
     "metadata": {},
     "output_type": "execute_result"
    }
   ],
   "source": [
    "qb_analysis.dtypes"
   ]
  },
  {
   "cell_type": "markdown",
   "metadata": {},
   "source": [
    "# First Pass Model"
   ]
  },
  {
   "cell_type": "code",
   "execution_count": 57,
   "metadata": {},
   "outputs": [],
   "source": [
    "qb_analysis_numeric = qb_analysis.drop(['qb', 'home_away', 'year'], axis = 'columns')"
   ]
  },
  {
   "cell_type": "code",
   "execution_count": 58,
   "metadata": {},
   "outputs": [],
   "source": [
    "#Separating the variables between X and y\n",
    "\n",
    "X = qb_analysis_numeric.drop('game_points', axis='columns')\n",
    "y = qb_analysis_numeric.loc[:, 'game_points']"
   ]
  },
  {
   "cell_type": "code",
   "execution_count": 59,
   "metadata": {},
   "outputs": [],
   "source": [
    "#Setting up a training set and a test set\n",
    "#test_size = .2 means 20% of the data is set aside for the test set. 80% of the data is used for the training set\n",
    "#You could also use train_size if you wish\n",
    "#I am using the 80/20 split based on conventional use\n",
    "\n",
    "from sklearn.model_selection import train_test_split\n",
    "\n",
    "X_train, X_test, y_train, y_test = train_test_split(X, y, test_size = .2, random_state=30)"
   ]
  },
  {
   "cell_type": "code",
   "execution_count": 60,
   "metadata": {},
   "outputs": [
    {
     "data": {
      "text/plain": [
       "LinearRegression(copy_X=True, fit_intercept=True, n_jobs=None,\n",
       "         normalize=False)"
      ]
     },
     "execution_count": 60,
     "metadata": {},
     "output_type": "execute_result"
    }
   ],
   "source": [
    "#Setting up a linear regression model using the training set\n",
    "\n",
    "from sklearn.linear_model import LinearRegression\n",
    "\n",
    "lr = LinearRegression()\n",
    "\n",
    "lr.fit(X_train, y_train)"
   ]
  },
  {
   "cell_type": "code",
   "execution_count": 61,
   "metadata": {},
   "outputs": [
    {
     "name": "stdout",
     "output_type": "stream",
     "text": [
      "0.4308130379375166\n",
      "0.4164278914760636\n"
     ]
    }
   ],
   "source": [
    "#Scoring the model on the training set and test set.\n",
    "#These are the R-squared values for the training set and test set. \n",
    "\n",
    "print(lr.score(X_train, y_train))\n",
    "print(lr.score(X_test, y_test))"
   ]
  },
  {
   "cell_type": "markdown",
   "metadata": {},
   "source": [
    "#### First Impressions"
   ]
  },
  {
   "cell_type": "markdown",
   "metadata": {},
   "source": [
    "blah blah blah"
   ]
  },
  {
   "cell_type": "markdown",
   "metadata": {},
   "source": [
    "# Further Data Cleaning"
   ]
  },
  {
   "cell_type": "code",
   "execution_count": 62,
   "metadata": {},
   "outputs": [
    {
     "data": {
      "text/plain": [
       "home    6621\n",
       "away    6550\n",
       "Name: home_away, dtype: int64"
      ]
     },
     "execution_count": 62,
     "metadata": {},
     "output_type": "execute_result"
    }
   ],
   "source": [
    "qb_analysis['home_away'].value_counts()"
   ]
  },
  {
   "cell_type": "code",
   "execution_count": 64,
   "metadata": {},
   "outputs": [
    {
     "data": {
      "text/plain": [
       "2003    663\n",
       "2009    654\n",
       "1999    649\n",
       "2004    648\n",
       "2002    647\n",
       "1998    642\n",
       "2000    640\n",
       "2007    639\n",
       "2005    637\n",
       "2008    626\n",
       "2010    625\n",
       "1997    624\n",
       "1996    621\n",
       "2006    620\n",
       "2014    616\n",
       "2011    614\n",
       "2001    611\n",
       "2016    610\n",
       "2012    604\n",
       "2015    592\n",
       "2013    589\n",
       "Name: year, dtype: int64"
      ]
     },
     "execution_count": 64,
     "metadata": {},
     "output_type": "execute_result"
    }
   ],
   "source": [
    "qb_analysis['year'].value_counts()"
   ]
  },
  {
   "cell_type": "code",
   "execution_count": 67,
   "metadata": {},
   "outputs": [
    {
     "data": {
      "text/plain": [
       "21"
      ]
     },
     "execution_count": 67,
     "metadata": {},
     "output_type": "execute_result"
    }
   ],
   "source": [
    "qb_analysis['year'].nunique()"
   ]
  },
  {
   "cell_type": "code",
   "execution_count": 65,
   "metadata": {},
   "outputs": [
    {
     "data": {
      "text/plain": [
       "Peyton ManningP. Manning               265\n",
       "Tom BradyT. Brady                      237\n",
       "Brett FavreB. Favre                    235\n",
       "Drew BreesD. Brees                     232\n",
       "Eli ManningE. Manning                  199\n",
       "Ben RoethlisbergerB. Roethlisberger    185\n",
       "Kerry CollinsK. Collins                181\n",
       "Philip RiversP. Rivers                 178\n",
       "Matt HasselbeckM. Hasselbeck           177\n",
       "Carson PalmerC. Palmer                 175\n",
       "Donovan McNabbD. McNabb                165\n",
       "Steve McNairS. McNair                  157\n",
       "Drew BledsoeD. Bledsoe                 150\n",
       "Mark BrunellM. Brunell                 146\n",
       "Matt RyanM. Ryan                       142\n",
       "Aaron RodgersA. Rodgers                141\n",
       "Alex SmithA. Smith                     141\n",
       "Jay CutlerJ. Cutler                    139\n",
       "Jake PlummerJ. Plummer                 139\n",
       "Jon KitnaJ. Kitna                      137\n",
       "Joe FlaccoJ. Flacco                    137\n",
       "Brad JohnsonB. Johnson                 136\n",
       "Michael VickM. Vick                    134\n",
       "Tony RomoT. Romo                       127\n",
       "Kurt WarnerK. Warner                   124\n",
       "Ryan FitzpatrickR. Fitzpatrick         124\n",
       "Jeff GarciaJ. Garcia                   123\n",
       "Trent GreenT. Green                    120\n",
       "Vinny TestaverdeV. Testaverde          116\n",
       "Matt SchaubM. Schaub                   110\n",
       "                                      ... \n",
       "Eric DeckerE. Decker                     1\n",
       "Tiki BarberT. Barber                     1\n",
       "Sean RenfreeS. Renfree                   1\n",
       "Ricky WattersR. Watters                  1\n",
       "Demaryius ThomasD. Thomas                1\n",
       "Bill SchroederB. Schroeder               1\n",
       "Andy LeeA. Lee                           1\n",
       "Ace SandersA. Sanders                    1\n",
       "Abdul-Karim Al-JabbarA. Al-Jabbar        1\n",
       "Alex TanneyA. Tanney                     1\n",
       "Earnest HunterE. Hunter                  1\n",
       "Cory SauterC. Sauter                     1\n",
       "Robert GoldenR. Golden                   1\n",
       "Lee JohnsonL. Johnson                    1\n",
       "Connor CookC. Cook                       1\n",
       "DeSean JacksonD. Jackson                 1\n",
       "William FloydW. Floyd                    1\n",
       "Tommy BarnhardtT. Barnhardt              1\n",
       "Jeff SaturdayJ. Saturday                 1\n",
       "Josh BushJ. Bush                         1\n",
       "Eddie KennisonE. Kennison                1\n",
       "Dez BryantD. Bryant                      1\n",
       "Chris HoganC. Hogan                      1\n",
       "Mike BartrumM. Bartrum                   1\n",
       "Bryan AngerB. Anger                      1\n",
       "Chris BrownC. Brown                      1\n",
       "Ryan LongwellR. Longwell                 1\n",
       "Mike WallaceM. Wallace                   1\n",
       "Josh GordonJ. Gordon                     1\n",
       "Deion BranchD. Branch                    1\n",
       "Name: qb, Length: 673, dtype: int64"
      ]
     },
     "execution_count": 65,
     "metadata": {},
     "output_type": "execute_result"
    }
   ],
   "source": [
    "qb_analysis['qb'].value_counts()"
   ]
  },
  {
   "cell_type": "code",
   "execution_count": 66,
   "metadata": {},
   "outputs": [
    {
     "data": {
      "text/plain": [
       "673"
      ]
     },
     "execution_count": 66,
     "metadata": {},
     "output_type": "execute_result"
    }
   ],
   "source": [
    "qb_analysis['qb'].nunique() "
   ]
  },
  {
   "cell_type": "code",
   "execution_count": 68,
   "metadata": {},
   "outputs": [
    {
     "name": "stdout",
     "output_type": "stream",
     "text": [
      "0        Nineties_Era\n",
      "1        Nineties_Era\n",
      "2        Nineties_Era\n",
      "3        Nineties_Era\n",
      "4        Nineties_Era\n",
      "5        Nineties_Era\n",
      "6        Nineties_Era\n",
      "7        Nineties_Era\n",
      "8        Nineties_Era\n",
      "9        Nineties_Era\n",
      "10       Nineties_Era\n",
      "11       Nineties_Era\n",
      "12       Nineties_Era\n",
      "13       Nineties_Era\n",
      "14       Nineties_Era\n",
      "15       Nineties_Era\n",
      "16       Nineties_Era\n",
      "17       Nineties_Era\n",
      "18       Nineties_Era\n",
      "19       Nineties_Era\n",
      "20       Nineties_Era\n",
      "21       Nineties_Era\n",
      "22       Nineties_Era\n",
      "23       Nineties_Era\n",
      "24       Nineties_Era\n",
      "25       Nineties_Era\n",
      "26       Nineties_Era\n",
      "27       Nineties_Era\n",
      "28       Nineties_Era\n",
      "29       Nineties_Era\n",
      "             ...     \n",
      "13158     Early_2010s\n",
      "13159     Early_2010s\n",
      "13160     Early_2010s\n",
      "13161     Early_2010s\n",
      "13162     Early_2010s\n",
      "13163     Early_2010s\n",
      "13164     Early_2010s\n",
      "13165     Early_2010s\n",
      "13166     Early_2010s\n",
      "13167     Early_2010s\n",
      "13168     Early_2010s\n",
      "13169     Early_2010s\n",
      "13170     Early_2010s\n",
      "13171     Early_2010s\n",
      "13172     Early_2010s\n",
      "13173     Early_2010s\n",
      "13174     Early_2010s\n",
      "13175     Early_2010s\n",
      "13176     Early_2010s\n",
      "13177     Early_2010s\n",
      "13178     Early_2010s\n",
      "13179     Early_2010s\n",
      "13180     Early_2010s\n",
      "13181     Early_2010s\n",
      "13182     Early_2010s\n",
      "13183     Early_2010s\n",
      "13184     Early_2010s\n",
      "13185     Early_2010s\n",
      "13186     Early_2010s\n",
      "13187     Early_2010s\n",
      "Name: year, Length: 13171, dtype: object\n"
     ]
    }
   ],
   "source": [
    "#Here I am creating a function to convert the years built into four distinct eras of being built\n",
    "#1842-1899 will be \"1850\"\n",
    "#1900-1950 will be \"1900\"\n",
    "#1951-1999 will be \"1950\"\n",
    "#2000 and above will be \"2000\"\n",
    "\n",
    "def era_Played(x):\n",
    "    if x in [\"1996\", \"1997\", '1998', '1999']:\n",
    "        return \"Nineties_Era\"\n",
    "    elif x in [\"2000\", \"2001\", '2002', '2003', '2004', '2005']:\n",
    "        return \"Early_2000s\"\n",
    "    elif x in [\"2006\", \"2007\", '2008', '2009', '2010']:\n",
    "        return \"Late_2000s\"\n",
    "    else: return \"Early_2010s\"\n",
    "\n",
    "\n",
    "qb_analysis['year'] = qb_analysis['year'].apply(era_Played)\n",
    "print(qb_analysis['year'])"
   ]
  },
  {
   "cell_type": "code",
   "execution_count": 69,
   "metadata": {},
   "outputs": [
    {
     "data": {
      "text/plain": [
       "Early_2000s     3846\n",
       "Early_2010s     3625\n",
       "Late_2000s      3164\n",
       "Nineties_Era    2536\n",
       "Name: year, dtype: int64"
      ]
     },
     "execution_count": 69,
     "metadata": {},
     "output_type": "execute_result"
    }
   ],
   "source": [
    "qb_analysis['year'].value_counts()"
   ]
  },
  {
   "cell_type": "code",
   "execution_count": 71,
   "metadata": {},
   "outputs": [],
   "source": [
    "qb_analysis = qb_analysis.drop(['qb'], axis = 'columns')"
   ]
  },
  {
   "cell_type": "code",
   "execution_count": 72,
   "metadata": {},
   "outputs": [
    {
     "data": {
      "text/html": [
       "<div>\n",
       "<style scoped>\n",
       "    .dataframe tbody tr th:only-of-type {\n",
       "        vertical-align: middle;\n",
       "    }\n",
       "\n",
       "    .dataframe tbody tr th {\n",
       "        vertical-align: top;\n",
       "    }\n",
       "\n",
       "    .dataframe thead th {\n",
       "        text-align: right;\n",
       "    }\n",
       "</style>\n",
       "<table border=\"1\" class=\"dataframe\">\n",
       "  <thead>\n",
       "    <tr style=\"text-align: right;\">\n",
       "      <th></th>\n",
       "      <th>att</th>\n",
       "      <th>cmp</th>\n",
       "      <th>yds</th>\n",
       "      <th>ypa</th>\n",
       "      <th>td</th>\n",
       "      <th>int</th>\n",
       "      <th>lg</th>\n",
       "      <th>sack</th>\n",
       "      <th>loss</th>\n",
       "      <th>rate</th>\n",
       "      <th>game_points</th>\n",
       "      <th>home_away</th>\n",
       "      <th>year</th>\n",
       "    </tr>\n",
       "  </thead>\n",
       "  <tbody>\n",
       "    <tr>\n",
       "      <th>0</th>\n",
       "      <td>38</td>\n",
       "      <td>25</td>\n",
       "      <td>237.0</td>\n",
       "      <td>6.2</td>\n",
       "      <td>0</td>\n",
       "      <td>0</td>\n",
       "      <td>20</td>\n",
       "      <td>2.0</td>\n",
       "      <td>11.0</td>\n",
       "      <td>82.9</td>\n",
       "      <td>13</td>\n",
       "      <td>away</td>\n",
       "      <td>Nineties_Era</td>\n",
       "    </tr>\n",
       "    <tr>\n",
       "      <th>1</th>\n",
       "      <td>25</td>\n",
       "      <td>16</td>\n",
       "      <td>196.0</td>\n",
       "      <td>7.8</td>\n",
       "      <td>2</td>\n",
       "      <td>1</td>\n",
       "      <td>35</td>\n",
       "      <td>0.0</td>\n",
       "      <td>0.0</td>\n",
       "      <td>98.1</td>\n",
       "      <td>20</td>\n",
       "      <td>home</td>\n",
       "      <td>Nineties_Era</td>\n",
       "    </tr>\n",
       "    <tr>\n",
       "      <th>2</th>\n",
       "      <td>8</td>\n",
       "      <td>5</td>\n",
       "      <td>53.0</td>\n",
       "      <td>6.6</td>\n",
       "      <td>0</td>\n",
       "      <td>0</td>\n",
       "      <td>30</td>\n",
       "      <td>1.0</td>\n",
       "      <td>11.0</td>\n",
       "      <td>81.8</td>\n",
       "      <td>20</td>\n",
       "      <td>home</td>\n",
       "      <td>Nineties_Era</td>\n",
       "    </tr>\n",
       "    <tr>\n",
       "      <th>3</th>\n",
       "      <td>35</td>\n",
       "      <td>16</td>\n",
       "      <td>215.0</td>\n",
       "      <td>6.1</td>\n",
       "      <td>0</td>\n",
       "      <td>0</td>\n",
       "      <td>55</td>\n",
       "      <td>7.0</td>\n",
       "      <td>53.0</td>\n",
       "      <td>65.8</td>\n",
       "      <td>6</td>\n",
       "      <td>away</td>\n",
       "      <td>Nineties_Era</td>\n",
       "    </tr>\n",
       "    <tr>\n",
       "      <th>4</th>\n",
       "      <td>31</td>\n",
       "      <td>17</td>\n",
       "      <td>198.0</td>\n",
       "      <td>6.4</td>\n",
       "      <td>2</td>\n",
       "      <td>0</td>\n",
       "      <td>30</td>\n",
       "      <td>4.0</td>\n",
       "      <td>12.0</td>\n",
       "      <td>95.9</td>\n",
       "      <td>29</td>\n",
       "      <td>home</td>\n",
       "      <td>Nineties_Era</td>\n",
       "    </tr>\n",
       "  </tbody>\n",
       "</table>\n",
       "</div>"
      ],
      "text/plain": [
       "   att  cmp    yds  ypa  td  int  lg  sack  loss  rate  game_points home_away  \\\n",
       "0   38   25  237.0  6.2   0    0  20   2.0  11.0  82.9           13      away   \n",
       "1   25   16  196.0  7.8   2    1  35   0.0   0.0  98.1           20      home   \n",
       "2    8    5   53.0  6.6   0    0  30   1.0  11.0  81.8           20      home   \n",
       "3   35   16  215.0  6.1   0    0  55   7.0  53.0  65.8            6      away   \n",
       "4   31   17  198.0  6.4   2    0  30   4.0  12.0  95.9           29      home   \n",
       "\n",
       "           year  \n",
       "0  Nineties_Era  \n",
       "1  Nineties_Era  \n",
       "2  Nineties_Era  \n",
       "3  Nineties_Era  \n",
       "4  Nineties_Era  "
      ]
     },
     "execution_count": 72,
     "metadata": {},
     "output_type": "execute_result"
    }
   ],
   "source": [
    "qb_analysis.head()"
   ]
  },
  {
   "cell_type": "code",
   "execution_count": 73,
   "metadata": {},
   "outputs": [],
   "source": [
    "qb_analysis = pd.get_dummies(qb_analysis, columns=['home_away', 'year'], drop_first=True)"
   ]
  },
  {
   "cell_type": "markdown",
   "metadata": {},
   "source": [
    "# Model With Dummy Variables"
   ]
  },
  {
   "cell_type": "code",
   "execution_count": 74,
   "metadata": {},
   "outputs": [],
   "source": [
    "#Separating the variables between X and y\n",
    "\n",
    "X = qb_analysis.drop('game_points', axis='columns')\n",
    "y = qb_analysis.loc[:, 'game_points']"
   ]
  },
  {
   "cell_type": "code",
   "execution_count": 75,
   "metadata": {},
   "outputs": [],
   "source": [
    "#Setting up a training set and a test set\n",
    "#test_size = .2 means 20% of the data is set aside for the test set. 80% of the data is used for the training set\n",
    "#You could also use train_size if you wish\n",
    "#I am using the 80/20 split based on conventional use\n",
    "\n",
    "from sklearn.model_selection import train_test_split\n",
    "\n",
    "X_train, X_test, y_train, y_test = train_test_split(X, y, test_size = .2, random_state=30)"
   ]
  },
  {
   "cell_type": "code",
   "execution_count": 76,
   "metadata": {},
   "outputs": [
    {
     "data": {
      "text/plain": [
       "LinearRegression(copy_X=True, fit_intercept=True, n_jobs=None,\n",
       "         normalize=False)"
      ]
     },
     "execution_count": 76,
     "metadata": {},
     "output_type": "execute_result"
    }
   ],
   "source": [
    "#Setting up a linear regression model using the training set\n",
    "\n",
    "from sklearn.linear_model import LinearRegression\n",
    "\n",
    "lr = LinearRegression()\n",
    "\n",
    "lr.fit(X_train, y_train)"
   ]
  },
  {
   "cell_type": "code",
   "execution_count": 77,
   "metadata": {},
   "outputs": [
    {
     "name": "stdout",
     "output_type": "stream",
     "text": [
      "0.4386400872589281\n",
      "0.42292590252731177\n"
     ]
    }
   ],
   "source": [
    "#Scoring the model on the training set and test set.\n",
    "#These are the R-squared values for the training set and test set. \n",
    "\n",
    "print(lr.score(X_train, y_train))\n",
    "print(lr.score(X_test, y_test))"
   ]
  },
  {
   "cell_type": "markdown",
   "metadata": {},
   "source": [
    "#### First Impressions"
   ]
  },
  {
   "cell_type": "markdown",
   "metadata": {},
   "source": [
    "Blah Blah Blah"
   ]
  },
  {
   "cell_type": "markdown",
   "metadata": {},
   "source": [
    "# Checking for Collinearity"
   ]
  },
  {
   "cell_type": "code",
   "execution_count": null,
   "metadata": {},
   "outputs": [],
   "source": []
  }
 ],
 "metadata": {
  "kernelspec": {
   "display_name": "Python 3",
   "language": "python",
   "name": "python3"
  },
  "language_info": {
   "codemirror_mode": {
    "name": "ipython",
    "version": 3
   },
   "file_extension": ".py",
   "mimetype": "text/x-python",
   "name": "python",
   "nbconvert_exporter": "python",
   "pygments_lexer": "ipython3",
   "version": "3.7.3"
  }
 },
 "nbformat": 4,
 "nbformat_minor": 2
}
